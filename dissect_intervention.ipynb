{
  "nbformat": 4,
  "nbformat_minor": 0,
  "metadata": {
    "colab": {
      "provenance": [],
      "authorship_tag": "ABX9TyM7W0f6qA8DnMukA6TJjK1q",
      "include_colab_link": true
    },
    "kernelspec": {
      "name": "python3",
      "display_name": "Python 3"
    },
    "language_info": {
      "name": "python"
    },
    "accelerator": "GPU",
    "gpuClass": "standard",
    "widgets": {
      "application/vnd.jupyter.widget-state+json": {
        "87f495a83e8e42149ef35d3ed1d31c67": {
          "model_module": "@jupyter-widgets/controls",
          "model_name": "HBoxModel",
          "model_module_version": "1.5.0",
          "state": {
            "_dom_classes": [],
            "_model_module": "@jupyter-widgets/controls",
            "_model_module_version": "1.5.0",
            "_model_name": "HBoxModel",
            "_view_count": null,
            "_view_module": "@jupyter-widgets/controls",
            "_view_module_version": "1.5.0",
            "_view_name": "HBoxView",
            "box_style": "",
            "children": [
              "IPY_MODEL_f9e967dbff6e40cfbb2080d3dd26de03",
              "IPY_MODEL_5f75d43d6c6b4a59bf582c9c41ce9cb1",
              "IPY_MODEL_54a7d2c6cf9c44309aa33de6159095a4"
            ],
            "layout": "IPY_MODEL_1c63a150e94f45eb97dbce99c5a28695"
          }
        },
        "f9e967dbff6e40cfbb2080d3dd26de03": {
          "model_module": "@jupyter-widgets/controls",
          "model_name": "HTMLModel",
          "model_module_version": "1.5.0",
          "state": {
            "_dom_classes": [],
            "_model_module": "@jupyter-widgets/controls",
            "_model_module_version": "1.5.0",
            "_model_name": "HTMLModel",
            "_view_count": null,
            "_view_module": "@jupyter-widgets/controls",
            "_view_module_version": "1.5.0",
            "_view_name": "HTMLView",
            "description": "",
            "description_tooltip": null,
            "layout": "IPY_MODEL_f5cab9f9e9ed4df59acc2f59fc4db4e9",
            "placeholder": "​",
            "style": "IPY_MODEL_6852ec620fe348ddafbc3fce5f26fc1f",
            "value": ""
          }
        },
        "5f75d43d6c6b4a59bf582c9c41ce9cb1": {
          "model_module": "@jupyter-widgets/controls",
          "model_name": "FloatProgressModel",
          "model_module_version": "1.5.0",
          "state": {
            "_dom_classes": [],
            "_model_module": "@jupyter-widgets/controls",
            "_model_module_version": "1.5.0",
            "_model_name": "FloatProgressModel",
            "_view_count": null,
            "_view_module": "@jupyter-widgets/controls",
            "_view_module_version": "1.5.0",
            "_view_name": "ProgressView",
            "bar_style": "success",
            "description": "",
            "description_tooltip": null,
            "layout": "IPY_MODEL_6633e51518524daeb76f6fce548f22e6",
            "max": 24811660325,
            "min": 0,
            "orientation": "horizontal",
            "style": "IPY_MODEL_6da97ad136504d2a804b2806e4a406da",
            "value": 24811660325
          }
        },
        "54a7d2c6cf9c44309aa33de6159095a4": {
          "model_module": "@jupyter-widgets/controls",
          "model_name": "HTMLModel",
          "model_module_version": "1.5.0",
          "state": {
            "_dom_classes": [],
            "_model_module": "@jupyter-widgets/controls",
            "_model_module_version": "1.5.0",
            "_model_name": "HTMLModel",
            "_view_count": null,
            "_view_module": "@jupyter-widgets/controls",
            "_view_module_version": "1.5.0",
            "_view_name": "HTMLView",
            "description": "",
            "description_tooltip": null,
            "layout": "IPY_MODEL_ba8b1950f43a439c9e0e1f612ecd6dba",
            "placeholder": "​",
            "style": "IPY_MODEL_4b4d9fa2f68246b38d3500b8555c407d",
            "value": " 24811661312/? [11:57&lt;00:00, 33581005.44it/s]"
          }
        },
        "1c63a150e94f45eb97dbce99c5a28695": {
          "model_module": "@jupyter-widgets/base",
          "model_name": "LayoutModel",
          "model_module_version": "1.2.0",
          "state": {
            "_model_module": "@jupyter-widgets/base",
            "_model_module_version": "1.2.0",
            "_model_name": "LayoutModel",
            "_view_count": null,
            "_view_module": "@jupyter-widgets/base",
            "_view_module_version": "1.2.0",
            "_view_name": "LayoutView",
            "align_content": null,
            "align_items": null,
            "align_self": null,
            "border": null,
            "bottom": null,
            "display": null,
            "flex": null,
            "flex_flow": null,
            "grid_area": null,
            "grid_auto_columns": null,
            "grid_auto_flow": null,
            "grid_auto_rows": null,
            "grid_column": null,
            "grid_gap": null,
            "grid_row": null,
            "grid_template_areas": null,
            "grid_template_columns": null,
            "grid_template_rows": null,
            "height": null,
            "justify_content": null,
            "justify_items": null,
            "left": null,
            "margin": null,
            "max_height": null,
            "max_width": null,
            "min_height": null,
            "min_width": null,
            "object_fit": null,
            "object_position": null,
            "order": null,
            "overflow": null,
            "overflow_x": null,
            "overflow_y": null,
            "padding": null,
            "right": null,
            "top": null,
            "visibility": null,
            "width": null
          }
        },
        "f5cab9f9e9ed4df59acc2f59fc4db4e9": {
          "model_module": "@jupyter-widgets/base",
          "model_name": "LayoutModel",
          "model_module_version": "1.2.0",
          "state": {
            "_model_module": "@jupyter-widgets/base",
            "_model_module_version": "1.2.0",
            "_model_name": "LayoutModel",
            "_view_count": null,
            "_view_module": "@jupyter-widgets/base",
            "_view_module_version": "1.2.0",
            "_view_name": "LayoutView",
            "align_content": null,
            "align_items": null,
            "align_self": null,
            "border": null,
            "bottom": null,
            "display": null,
            "flex": null,
            "flex_flow": null,
            "grid_area": null,
            "grid_auto_columns": null,
            "grid_auto_flow": null,
            "grid_auto_rows": null,
            "grid_column": null,
            "grid_gap": null,
            "grid_row": null,
            "grid_template_areas": null,
            "grid_template_columns": null,
            "grid_template_rows": null,
            "height": null,
            "justify_content": null,
            "justify_items": null,
            "left": null,
            "margin": null,
            "max_height": null,
            "max_width": null,
            "min_height": null,
            "min_width": null,
            "object_fit": null,
            "object_position": null,
            "order": null,
            "overflow": null,
            "overflow_x": null,
            "overflow_y": null,
            "padding": null,
            "right": null,
            "top": null,
            "visibility": null,
            "width": null
          }
        },
        "6852ec620fe348ddafbc3fce5f26fc1f": {
          "model_module": "@jupyter-widgets/controls",
          "model_name": "DescriptionStyleModel",
          "model_module_version": "1.5.0",
          "state": {
            "_model_module": "@jupyter-widgets/controls",
            "_model_module_version": "1.5.0",
            "_model_name": "DescriptionStyleModel",
            "_view_count": null,
            "_view_module": "@jupyter-widgets/base",
            "_view_module_version": "1.2.0",
            "_view_name": "StyleView",
            "description_width": ""
          }
        },
        "6633e51518524daeb76f6fce548f22e6": {
          "model_module": "@jupyter-widgets/base",
          "model_name": "LayoutModel",
          "model_module_version": "1.2.0",
          "state": {
            "_model_module": "@jupyter-widgets/base",
            "_model_module_version": "1.2.0",
            "_model_name": "LayoutModel",
            "_view_count": null,
            "_view_module": "@jupyter-widgets/base",
            "_view_module_version": "1.2.0",
            "_view_name": "LayoutView",
            "align_content": null,
            "align_items": null,
            "align_self": null,
            "border": null,
            "bottom": null,
            "display": null,
            "flex": null,
            "flex_flow": null,
            "grid_area": null,
            "grid_auto_columns": null,
            "grid_auto_flow": null,
            "grid_auto_rows": null,
            "grid_column": null,
            "grid_gap": null,
            "grid_row": null,
            "grid_template_areas": null,
            "grid_template_columns": null,
            "grid_template_rows": null,
            "height": null,
            "justify_content": null,
            "justify_items": null,
            "left": null,
            "margin": null,
            "max_height": null,
            "max_width": null,
            "min_height": null,
            "min_width": null,
            "object_fit": null,
            "object_position": null,
            "order": null,
            "overflow": null,
            "overflow_x": null,
            "overflow_y": null,
            "padding": null,
            "right": null,
            "top": null,
            "visibility": null,
            "width": null
          }
        },
        "6da97ad136504d2a804b2806e4a406da": {
          "model_module": "@jupyter-widgets/controls",
          "model_name": "ProgressStyleModel",
          "model_module_version": "1.5.0",
          "state": {
            "_model_module": "@jupyter-widgets/controls",
            "_model_module_version": "1.5.0",
            "_model_name": "ProgressStyleModel",
            "_view_count": null,
            "_view_module": "@jupyter-widgets/base",
            "_view_module_version": "1.2.0",
            "_view_name": "StyleView",
            "bar_color": null,
            "description_width": ""
          }
        },
        "ba8b1950f43a439c9e0e1f612ecd6dba": {
          "model_module": "@jupyter-widgets/base",
          "model_name": "LayoutModel",
          "model_module_version": "1.2.0",
          "state": {
            "_model_module": "@jupyter-widgets/base",
            "_model_module_version": "1.2.0",
            "_model_name": "LayoutModel",
            "_view_count": null,
            "_view_module": "@jupyter-widgets/base",
            "_view_module_version": "1.2.0",
            "_view_name": "LayoutView",
            "align_content": null,
            "align_items": null,
            "align_self": null,
            "border": null,
            "bottom": null,
            "display": null,
            "flex": null,
            "flex_flow": null,
            "grid_area": null,
            "grid_auto_columns": null,
            "grid_auto_flow": null,
            "grid_auto_rows": null,
            "grid_column": null,
            "grid_gap": null,
            "grid_row": null,
            "grid_template_areas": null,
            "grid_template_columns": null,
            "grid_template_rows": null,
            "height": null,
            "justify_content": null,
            "justify_items": null,
            "left": null,
            "margin": null,
            "max_height": null,
            "max_width": null,
            "min_height": null,
            "min_width": null,
            "object_fit": null,
            "object_position": null,
            "order": null,
            "overflow": null,
            "overflow_x": null,
            "overflow_y": null,
            "padding": null,
            "right": null,
            "top": null,
            "visibility": null,
            "width": null
          }
        },
        "4b4d9fa2f68246b38d3500b8555c407d": {
          "model_module": "@jupyter-widgets/controls",
          "model_name": "DescriptionStyleModel",
          "model_module_version": "1.5.0",
          "state": {
            "_model_module": "@jupyter-widgets/controls",
            "_model_module_version": "1.5.0",
            "_model_name": "DescriptionStyleModel",
            "_view_count": null,
            "_view_module": "@jupyter-widgets/base",
            "_view_module_version": "1.2.0",
            "_view_name": "StyleView",
            "description_width": ""
          }
        },
        "8307f34413fc4ea98d5d18d7830cf1b2": {
          "model_module": "@jupyter-widgets/controls",
          "model_name": "HBoxModel",
          "model_module_version": "1.5.0",
          "state": {
            "_dom_classes": [],
            "_model_module": "@jupyter-widgets/controls",
            "_model_module_version": "1.5.0",
            "_model_name": "HBoxModel",
            "_view_count": null,
            "_view_module": "@jupyter-widgets/controls",
            "_view_module_version": "1.5.0",
            "_view_name": "HBoxView",
            "box_style": "",
            "children": [
              "IPY_MODEL_d8ffa52da33e4b42bada48198738fc78",
              "IPY_MODEL_c4386ac7b35441c3a8e8b14f7c8178ac",
              "IPY_MODEL_8c94b678136c418f904753251ad3c2ab"
            ],
            "layout": "IPY_MODEL_a977f6812c99407186c99a324b98cd81"
          }
        },
        "d8ffa52da33e4b42bada48198738fc78": {
          "model_module": "@jupyter-widgets/controls",
          "model_name": "HTMLModel",
          "model_module_version": "1.5.0",
          "state": {
            "_dom_classes": [],
            "_model_module": "@jupyter-widgets/controls",
            "_model_module_version": "1.5.0",
            "_model_name": "HTMLModel",
            "_view_count": null,
            "_view_module": "@jupyter-widgets/controls",
            "_view_module_version": "1.5.0",
            "_view_name": "HTMLView",
            "description": "",
            "description_tooltip": null,
            "layout": "IPY_MODEL_808853ce2333479384b2873f861a975f",
            "placeholder": "​",
            "style": "IPY_MODEL_bec618af4319497c8eb9ad5351361c12",
            "value": "100%"
          }
        },
        "c4386ac7b35441c3a8e8b14f7c8178ac": {
          "model_module": "@jupyter-widgets/controls",
          "model_name": "FloatProgressModel",
          "model_module_version": "1.5.0",
          "state": {
            "_dom_classes": [],
            "_model_module": "@jupyter-widgets/controls",
            "_model_module_version": "1.5.0",
            "_model_name": "FloatProgressModel",
            "_view_count": null,
            "_view_module": "@jupyter-widgets/controls",
            "_view_module_version": "1.5.0",
            "_view_name": "ProgressView",
            "bar_style": "success",
            "description": "",
            "description_tooltip": null,
            "layout": "IPY_MODEL_75d1673dfec0456f8d100ccdc10dca76",
            "max": 543029906,
            "min": 0,
            "orientation": "horizontal",
            "style": "IPY_MODEL_429a83daa37a4e209f1ce4306115db2d",
            "value": 543029906
          }
        },
        "8c94b678136c418f904753251ad3c2ab": {
          "model_module": "@jupyter-widgets/controls",
          "model_name": "HTMLModel",
          "model_module_version": "1.5.0",
          "state": {
            "_dom_classes": [],
            "_model_module": "@jupyter-widgets/controls",
            "_model_module_version": "1.5.0",
            "_model_name": "HTMLModel",
            "_view_count": null,
            "_view_module": "@jupyter-widgets/controls",
            "_view_module_version": "1.5.0",
            "_view_name": "HTMLView",
            "description": "",
            "description_tooltip": null,
            "layout": "IPY_MODEL_fecf71580a67409d98a3c8781c1cde15",
            "placeholder": "​",
            "style": "IPY_MODEL_335e1b1563e84792ba1ba1ca62e9e73a",
            "value": " 518M/518M [00:19&lt;00:00, 25.2MB/s]"
          }
        },
        "a977f6812c99407186c99a324b98cd81": {
          "model_module": "@jupyter-widgets/base",
          "model_name": "LayoutModel",
          "model_module_version": "1.2.0",
          "state": {
            "_model_module": "@jupyter-widgets/base",
            "_model_module_version": "1.2.0",
            "_model_name": "LayoutModel",
            "_view_count": null,
            "_view_module": "@jupyter-widgets/base",
            "_view_module_version": "1.2.0",
            "_view_name": "LayoutView",
            "align_content": null,
            "align_items": null,
            "align_self": null,
            "border": null,
            "bottom": null,
            "display": null,
            "flex": null,
            "flex_flow": null,
            "grid_area": null,
            "grid_auto_columns": null,
            "grid_auto_flow": null,
            "grid_auto_rows": null,
            "grid_column": null,
            "grid_gap": null,
            "grid_row": null,
            "grid_template_areas": null,
            "grid_template_columns": null,
            "grid_template_rows": null,
            "height": null,
            "justify_content": null,
            "justify_items": null,
            "left": null,
            "margin": null,
            "max_height": null,
            "max_width": null,
            "min_height": null,
            "min_width": null,
            "object_fit": null,
            "object_position": null,
            "order": null,
            "overflow": null,
            "overflow_x": null,
            "overflow_y": null,
            "padding": null,
            "right": null,
            "top": null,
            "visibility": null,
            "width": null
          }
        },
        "808853ce2333479384b2873f861a975f": {
          "model_module": "@jupyter-widgets/base",
          "model_name": "LayoutModel",
          "model_module_version": "1.2.0",
          "state": {
            "_model_module": "@jupyter-widgets/base",
            "_model_module_version": "1.2.0",
            "_model_name": "LayoutModel",
            "_view_count": null,
            "_view_module": "@jupyter-widgets/base",
            "_view_module_version": "1.2.0",
            "_view_name": "LayoutView",
            "align_content": null,
            "align_items": null,
            "align_self": null,
            "border": null,
            "bottom": null,
            "display": null,
            "flex": null,
            "flex_flow": null,
            "grid_area": null,
            "grid_auto_columns": null,
            "grid_auto_flow": null,
            "grid_auto_rows": null,
            "grid_column": null,
            "grid_gap": null,
            "grid_row": null,
            "grid_template_areas": null,
            "grid_template_columns": null,
            "grid_template_rows": null,
            "height": null,
            "justify_content": null,
            "justify_items": null,
            "left": null,
            "margin": null,
            "max_height": null,
            "max_width": null,
            "min_height": null,
            "min_width": null,
            "object_fit": null,
            "object_position": null,
            "order": null,
            "overflow": null,
            "overflow_x": null,
            "overflow_y": null,
            "padding": null,
            "right": null,
            "top": null,
            "visibility": null,
            "width": null
          }
        },
        "bec618af4319497c8eb9ad5351361c12": {
          "model_module": "@jupyter-widgets/controls",
          "model_name": "DescriptionStyleModel",
          "model_module_version": "1.5.0",
          "state": {
            "_model_module": "@jupyter-widgets/controls",
            "_model_module_version": "1.5.0",
            "_model_name": "DescriptionStyleModel",
            "_view_count": null,
            "_view_module": "@jupyter-widgets/base",
            "_view_module_version": "1.2.0",
            "_view_name": "StyleView",
            "description_width": ""
          }
        },
        "75d1673dfec0456f8d100ccdc10dca76": {
          "model_module": "@jupyter-widgets/base",
          "model_name": "LayoutModel",
          "model_module_version": "1.2.0",
          "state": {
            "_model_module": "@jupyter-widgets/base",
            "_model_module_version": "1.2.0",
            "_model_name": "LayoutModel",
            "_view_count": null,
            "_view_module": "@jupyter-widgets/base",
            "_view_module_version": "1.2.0",
            "_view_name": "LayoutView",
            "align_content": null,
            "align_items": null,
            "align_self": null,
            "border": null,
            "bottom": null,
            "display": null,
            "flex": null,
            "flex_flow": null,
            "grid_area": null,
            "grid_auto_columns": null,
            "grid_auto_flow": null,
            "grid_auto_rows": null,
            "grid_column": null,
            "grid_gap": null,
            "grid_row": null,
            "grid_template_areas": null,
            "grid_template_columns": null,
            "grid_template_rows": null,
            "height": null,
            "justify_content": null,
            "justify_items": null,
            "left": null,
            "margin": null,
            "max_height": null,
            "max_width": null,
            "min_height": null,
            "min_width": null,
            "object_fit": null,
            "object_position": null,
            "order": null,
            "overflow": null,
            "overflow_x": null,
            "overflow_y": null,
            "padding": null,
            "right": null,
            "top": null,
            "visibility": null,
            "width": null
          }
        },
        "429a83daa37a4e209f1ce4306115db2d": {
          "model_module": "@jupyter-widgets/controls",
          "model_name": "ProgressStyleModel",
          "model_module_version": "1.5.0",
          "state": {
            "_model_module": "@jupyter-widgets/controls",
            "_model_module_version": "1.5.0",
            "_model_name": "ProgressStyleModel",
            "_view_count": null,
            "_view_module": "@jupyter-widgets/base",
            "_view_module_version": "1.2.0",
            "_view_name": "StyleView",
            "bar_color": null,
            "description_width": ""
          }
        },
        "fecf71580a67409d98a3c8781c1cde15": {
          "model_module": "@jupyter-widgets/base",
          "model_name": "LayoutModel",
          "model_module_version": "1.2.0",
          "state": {
            "_model_module": "@jupyter-widgets/base",
            "_model_module_version": "1.2.0",
            "_model_name": "LayoutModel",
            "_view_count": null,
            "_view_module": "@jupyter-widgets/base",
            "_view_module_version": "1.2.0",
            "_view_name": "LayoutView",
            "align_content": null,
            "align_items": null,
            "align_self": null,
            "border": null,
            "bottom": null,
            "display": null,
            "flex": null,
            "flex_flow": null,
            "grid_area": null,
            "grid_auto_columns": null,
            "grid_auto_flow": null,
            "grid_auto_rows": null,
            "grid_column": null,
            "grid_gap": null,
            "grid_row": null,
            "grid_template_areas": null,
            "grid_template_columns": null,
            "grid_template_rows": null,
            "height": null,
            "justify_content": null,
            "justify_items": null,
            "left": null,
            "margin": null,
            "max_height": null,
            "max_width": null,
            "min_height": null,
            "min_width": null,
            "object_fit": null,
            "object_position": null,
            "order": null,
            "overflow": null,
            "overflow_x": null,
            "overflow_y": null,
            "padding": null,
            "right": null,
            "top": null,
            "visibility": null,
            "width": null
          }
        },
        "335e1b1563e84792ba1ba1ca62e9e73a": {
          "model_module": "@jupyter-widgets/controls",
          "model_name": "DescriptionStyleModel",
          "model_module_version": "1.5.0",
          "state": {
            "_model_module": "@jupyter-widgets/controls",
            "_model_module_version": "1.5.0",
            "_model_name": "DescriptionStyleModel",
            "_view_count": null,
            "_view_module": "@jupyter-widgets/base",
            "_view_module_version": "1.2.0",
            "_view_name": "StyleView",
            "description_width": ""
          }
        },
        "a4725aa17d20448393965c34cd462e8e": {
          "model_module": "@jupyter-widgets/controls",
          "model_name": "HBoxModel",
          "model_module_version": "1.5.0",
          "state": {
            "_dom_classes": [],
            "_model_module": "@jupyter-widgets/controls",
            "_model_module_version": "1.5.0",
            "_model_name": "HBoxModel",
            "_view_count": null,
            "_view_module": "@jupyter-widgets/controls",
            "_view_module_version": "1.5.0",
            "_view_name": "HBoxView",
            "box_style": "",
            "children": [
              "IPY_MODEL_f343c2e5f5c8497191cb77603a9e6d49",
              "IPY_MODEL_cf73acdcb20543a5b1a700087681aef5",
              "IPY_MODEL_3e94d9c552294f3cb66e7e4fe21fa554"
            ],
            "layout": "IPY_MODEL_cb11414d41b3486096d5a237a0590dab"
          }
        },
        "f343c2e5f5c8497191cb77603a9e6d49": {
          "model_module": "@jupyter-widgets/controls",
          "model_name": "HTMLModel",
          "model_module_version": "1.5.0",
          "state": {
            "_dom_classes": [],
            "_model_module": "@jupyter-widgets/controls",
            "_model_module_version": "1.5.0",
            "_model_name": "HTMLModel",
            "_view_count": null,
            "_view_module": "@jupyter-widgets/controls",
            "_view_module_version": "1.5.0",
            "_view_name": "HTMLView",
            "description": "",
            "description_tooltip": null,
            "layout": "IPY_MODEL_b9e4c93a276c4c29817ae640353e6140",
            "placeholder": "​",
            "style": "IPY_MODEL_4c0804338ffd46a4998ed1b1eb60756f",
            "value": ""
          }
        },
        "cf73acdcb20543a5b1a700087681aef5": {
          "model_module": "@jupyter-widgets/controls",
          "model_name": "FloatProgressModel",
          "model_module_version": "1.5.0",
          "state": {
            "_dom_classes": [],
            "_model_module": "@jupyter-widgets/controls",
            "_model_module_version": "1.5.0",
            "_model_name": "FloatProgressModel",
            "_view_count": null,
            "_view_module": "@jupyter-widgets/controls",
            "_view_module_version": "1.5.0",
            "_view_name": "ProgressView",
            "bar_style": "success",
            "description": "",
            "description_tooltip": null,
            "layout": "IPY_MODEL_4c4fbe19869c4c8089c6c75bf5984c6f",
            "max": 499777515,
            "min": 0,
            "orientation": "horizontal",
            "style": "IPY_MODEL_b6f149f11b3b41a2b37989eee0758746",
            "value": 499777515
          }
        },
        "3e94d9c552294f3cb66e7e4fe21fa554": {
          "model_module": "@jupyter-widgets/controls",
          "model_name": "HTMLModel",
          "model_module_version": "1.5.0",
          "state": {
            "_dom_classes": [],
            "_model_module": "@jupyter-widgets/controls",
            "_model_module_version": "1.5.0",
            "_model_name": "HTMLModel",
            "_view_count": null,
            "_view_module": "@jupyter-widgets/controls",
            "_view_module_version": "1.5.0",
            "_view_name": "HTMLView",
            "description": "",
            "description_tooltip": null,
            "layout": "IPY_MODEL_8bb3d18a8cd4415bbad31a63521eee01",
            "placeholder": "​",
            "style": "IPY_MODEL_08b2068579f2434ab7921b0d89a36c0d",
            "value": " 499777536/? [00:14&lt;00:00, 35076026.73it/s]"
          }
        },
        "cb11414d41b3486096d5a237a0590dab": {
          "model_module": "@jupyter-widgets/base",
          "model_name": "LayoutModel",
          "model_module_version": "1.2.0",
          "state": {
            "_model_module": "@jupyter-widgets/base",
            "_model_module_version": "1.2.0",
            "_model_name": "LayoutModel",
            "_view_count": null,
            "_view_module": "@jupyter-widgets/base",
            "_view_module_version": "1.2.0",
            "_view_name": "LayoutView",
            "align_content": null,
            "align_items": null,
            "align_self": null,
            "border": null,
            "bottom": null,
            "display": null,
            "flex": null,
            "flex_flow": null,
            "grid_area": null,
            "grid_auto_columns": null,
            "grid_auto_flow": null,
            "grid_auto_rows": null,
            "grid_column": null,
            "grid_gap": null,
            "grid_row": null,
            "grid_template_areas": null,
            "grid_template_columns": null,
            "grid_template_rows": null,
            "height": null,
            "justify_content": null,
            "justify_items": null,
            "left": null,
            "margin": null,
            "max_height": null,
            "max_width": null,
            "min_height": null,
            "min_width": null,
            "object_fit": null,
            "object_position": null,
            "order": null,
            "overflow": null,
            "overflow_x": null,
            "overflow_y": null,
            "padding": null,
            "right": null,
            "top": null,
            "visibility": null,
            "width": null
          }
        },
        "b9e4c93a276c4c29817ae640353e6140": {
          "model_module": "@jupyter-widgets/base",
          "model_name": "LayoutModel",
          "model_module_version": "1.2.0",
          "state": {
            "_model_module": "@jupyter-widgets/base",
            "_model_module_version": "1.2.0",
            "_model_name": "LayoutModel",
            "_view_count": null,
            "_view_module": "@jupyter-widgets/base",
            "_view_module_version": "1.2.0",
            "_view_name": "LayoutView",
            "align_content": null,
            "align_items": null,
            "align_self": null,
            "border": null,
            "bottom": null,
            "display": null,
            "flex": null,
            "flex_flow": null,
            "grid_area": null,
            "grid_auto_columns": null,
            "grid_auto_flow": null,
            "grid_auto_rows": null,
            "grid_column": null,
            "grid_gap": null,
            "grid_row": null,
            "grid_template_areas": null,
            "grid_template_columns": null,
            "grid_template_rows": null,
            "height": null,
            "justify_content": null,
            "justify_items": null,
            "left": null,
            "margin": null,
            "max_height": null,
            "max_width": null,
            "min_height": null,
            "min_width": null,
            "object_fit": null,
            "object_position": null,
            "order": null,
            "overflow": null,
            "overflow_x": null,
            "overflow_y": null,
            "padding": null,
            "right": null,
            "top": null,
            "visibility": null,
            "width": null
          }
        },
        "4c0804338ffd46a4998ed1b1eb60756f": {
          "model_module": "@jupyter-widgets/controls",
          "model_name": "DescriptionStyleModel",
          "model_module_version": "1.5.0",
          "state": {
            "_model_module": "@jupyter-widgets/controls",
            "_model_module_version": "1.5.0",
            "_model_name": "DescriptionStyleModel",
            "_view_count": null,
            "_view_module": "@jupyter-widgets/base",
            "_view_module_version": "1.2.0",
            "_view_name": "StyleView",
            "description_width": ""
          }
        },
        "4c4fbe19869c4c8089c6c75bf5984c6f": {
          "model_module": "@jupyter-widgets/base",
          "model_name": "LayoutModel",
          "model_module_version": "1.2.0",
          "state": {
            "_model_module": "@jupyter-widgets/base",
            "_model_module_version": "1.2.0",
            "_model_name": "LayoutModel",
            "_view_count": null,
            "_view_module": "@jupyter-widgets/base",
            "_view_module_version": "1.2.0",
            "_view_name": "LayoutView",
            "align_content": null,
            "align_items": null,
            "align_self": null,
            "border": null,
            "bottom": null,
            "display": null,
            "flex": null,
            "flex_flow": null,
            "grid_area": null,
            "grid_auto_columns": null,
            "grid_auto_flow": null,
            "grid_auto_rows": null,
            "grid_column": null,
            "grid_gap": null,
            "grid_row": null,
            "grid_template_areas": null,
            "grid_template_columns": null,
            "grid_template_rows": null,
            "height": null,
            "justify_content": null,
            "justify_items": null,
            "left": null,
            "margin": null,
            "max_height": null,
            "max_width": null,
            "min_height": null,
            "min_width": null,
            "object_fit": null,
            "object_position": null,
            "order": null,
            "overflow": null,
            "overflow_x": null,
            "overflow_y": null,
            "padding": null,
            "right": null,
            "top": null,
            "visibility": null,
            "width": null
          }
        },
        "b6f149f11b3b41a2b37989eee0758746": {
          "model_module": "@jupyter-widgets/controls",
          "model_name": "ProgressStyleModel",
          "model_module_version": "1.5.0",
          "state": {
            "_model_module": "@jupyter-widgets/controls",
            "_model_module_version": "1.5.0",
            "_model_name": "ProgressStyleModel",
            "_view_count": null,
            "_view_module": "@jupyter-widgets/base",
            "_view_module_version": "1.2.0",
            "_view_name": "StyleView",
            "bar_color": null,
            "description_width": ""
          }
        },
        "8bb3d18a8cd4415bbad31a63521eee01": {
          "model_module": "@jupyter-widgets/base",
          "model_name": "LayoutModel",
          "model_module_version": "1.2.0",
          "state": {
            "_model_module": "@jupyter-widgets/base",
            "_model_module_version": "1.2.0",
            "_model_name": "LayoutModel",
            "_view_count": null,
            "_view_module": "@jupyter-widgets/base",
            "_view_module_version": "1.2.0",
            "_view_name": "LayoutView",
            "align_content": null,
            "align_items": null,
            "align_self": null,
            "border": null,
            "bottom": null,
            "display": null,
            "flex": null,
            "flex_flow": null,
            "grid_area": null,
            "grid_auto_columns": null,
            "grid_auto_flow": null,
            "grid_auto_rows": null,
            "grid_column": null,
            "grid_gap": null,
            "grid_row": null,
            "grid_template_areas": null,
            "grid_template_columns": null,
            "grid_template_rows": null,
            "height": null,
            "justify_content": null,
            "justify_items": null,
            "left": null,
            "margin": null,
            "max_height": null,
            "max_width": null,
            "min_height": null,
            "min_width": null,
            "object_fit": null,
            "object_position": null,
            "order": null,
            "overflow": null,
            "overflow_x": null,
            "overflow_y": null,
            "padding": null,
            "right": null,
            "top": null,
            "visibility": null,
            "width": null
          }
        },
        "08b2068579f2434ab7921b0d89a36c0d": {
          "model_module": "@jupyter-widgets/controls",
          "model_name": "DescriptionStyleModel",
          "model_module_version": "1.5.0",
          "state": {
            "_model_module": "@jupyter-widgets/controls",
            "_model_module_version": "1.5.0",
            "_model_name": "DescriptionStyleModel",
            "_view_count": null,
            "_view_module": "@jupyter-widgets/base",
            "_view_module_version": "1.2.0",
            "_view_name": "StyleView",
            "description_width": ""
          }
        }
      }
    }
  },
  "cells": [
    {
      "cell_type": "markdown",
      "metadata": {
        "id": "view-in-github",
        "colab_type": "text"
      },
      "source": [
        "<a href=\"https://colab.research.google.com/github/thyungkim/NetDissect-Improve-Accuracy/blob/main/dissect_intervention.ipynb\" target=\"_parent\"><img src=\"https://colab.research.google.com/assets/colab-badge.svg\" alt=\"Open In Colab\"/></a>"
      ]
    },
    {
      "cell_type": "code",
      "source": [
        "import os\n",
        "\n",
        "!pip install Ninja\n",
        "!wget https://developer.download.nvidia.com/compute/cuda/11.1.1/local_installers/cuda_11.1.1_455.32.00_linux.run\n",
        "!chmod +x cuda_11.1.1_455.32.00_linux.run\n",
        "!./cuda_11.1.1_455.32.00_linux.run --silent --toolkit --override\n",
        "os.environ['PATH'] += ':/usr/local/cuda-11.1/bin'\n",
        "os.environ['LD_LIBRARY_PATH'] += ':/usr/local/cuda-11.1/lib64'\n",
        "!pip install torch==1.9.0+cu111 torchvision==0.10.0+cu111 torchaudio===0.9.0 -f https://download.pytorch.org/whl/cu111/torch_stable.html\n"
      ],
      "metadata": {
        "id": "gGqM2fzPDxjy",
        "outputId": "f095c139-6b29-4c21-d506-6cc41f520e26",
        "colab": {
          "base_uri": "https://localhost:8080/"
        }
      },
      "execution_count": 6,
      "outputs": [
        {
          "output_type": "stream",
          "name": "stdout",
          "text": [
            "Looking in indexes: https://pypi.org/simple, https://us-python.pkg.dev/colab-wheels/public/simple/\n",
            "Requirement already satisfied: Ninja in /usr/local/lib/python3.8/dist-packages (1.11.1)\n",
            "\u001b[31mERROR: Operation cancelled by user\u001b[0m\u001b[31m\n",
            "\u001b[0m--2023-03-05 07:25:10--  https://developer.download.nvidia.com/compute/cuda/11.1.1/local_installers/cuda_11.1.1_455.32.00_linux.run\n",
            "Resolving developer.download.nvidia.com (developer.download.nvidia.com)... 152.199.20.126\n",
            "Connecting to developer.download.nvidia.com (developer.download.nvidia.com)|152.199.20.126|:443... connected.\n",
            "HTTP request sent, awaiting response... 200 OK\n",
            "Length: 3532172082 (3.3G) [application/octet-stream]\n",
            "Saving to: ‘cuda_11.1.1_455.32.00_linux.run.1’\n",
            "\n",
            "          cuda_11.1   0%[                    ]       0  --.-KB/s               ^C\n",
            "Signal caught, cleaning up\n",
            "Looking in indexes: https://pypi.org/simple, https://us-python.pkg.dev/colab-wheels/public/simple/\n",
            "Looking in links: https://download.pytorch.org/whl/cu111/torch_stable.html\n",
            "Requirement already satisfied: torch==1.9.0+cu111 in /usr/local/lib/python3.8/dist-packages (1.9.0+cu111)\n",
            "Requirement already satisfied: torchvision==0.10.0+cu111 in /usr/local/lib/python3.8/dist-packages (0.10.0+cu111)\n",
            "Requirement already satisfied: torchaudio===0.9.0 in /usr/local/lib/python3.8/dist-packages (0.9.0)\n",
            "Requirement already satisfied: typing-extensions in /usr/local/lib/python3.8/dist-packages (from torch==1.9.0+cu111) (4.5.0)\n",
            "Requirement already satisfied: numpy in /usr/local/lib/python3.8/dist-packages (from torchvision==0.10.0+cu111) (1.22.4)\n",
            "Requirement already satisfied: pillow>=5.3.0 in /usr/local/lib/python3.8/dist-packages (from torchvision==0.10.0+cu111) (8.4.0)\n",
            "\u001b[31mERROR: Operation cancelled by user\u001b[0m\u001b[31m\n",
            "\u001b[0mTraceback (most recent call last):\n",
            "  File \"/usr/local/lib/python3.8/dist-packages/pip/_vendor/pkg_resources/__init__.py\", line 3021, in _dep_map\n",
            "    return self.__dep_map\n",
            "  File \"/usr/local/lib/python3.8/dist-packages/pip/_vendor/pkg_resources/__init__.py\", line 2815, in __getattr__\n",
            "    raise AttributeError(attr)\n",
            "AttributeError: _DistInfoDistribution__dep_map\n",
            "\n",
            "During handling of the above exception, another exception occurred:\n",
            "\n",
            "Traceback (most recent call last):\n",
            "  File \"/usr/local/lib/python3.8/dist-packages/pip/_internal/cli/base_command.py\", line 167, in exc_logging_wrapper\n",
            "    status = run_func(*args)\n",
            "  File \"/usr/local/lib/python3.8/dist-packages/pip/_internal/cli/req_command.py\", line 199, in wrapper\n",
            "    return func(self, options, args)\n",
            "  File \"/usr/local/lib/python3.8/dist-packages/pip/_internal/commands/install.py\", line 397, in run\n",
            "    conflicts = self._determine_conflicts(to_install)\n",
            "  File \"/usr/local/lib/python3.8/dist-packages/pip/_internal/commands/install.py\", line 529, in _determine_conflicts\n",
            "    return check_install_conflicts(to_install)\n",
            "  File \"/usr/local/lib/python3.8/dist-packages/pip/_internal/operations/check.py\", line 101, in check_install_conflicts\n",
            "    package_set, _ = create_package_set_from_installed()\n",
            "  File \"/usr/local/lib/python3.8/dist-packages/pip/_internal/operations/check.py\", line 42, in create_package_set_from_installed\n",
            "    dependencies = list(dist.iter_dependencies())\n",
            "  File \"/usr/local/lib/python3.8/dist-packages/pip/_internal/metadata/pkg_resources.py\", line 202, in iter_dependencies\n",
            "    return self._dist.requires(extras)\n",
            "  File \"/usr/local/lib/python3.8/dist-packages/pip/_vendor/pkg_resources/__init__.py\", line 2736, in requires\n",
            "    dm = self._dep_map\n",
            "  File \"/usr/local/lib/python3.8/dist-packages/pip/_vendor/pkg_resources/__init__.py\", line 3023, in _dep_map\n",
            "    self.__dep_map = self._compute_dependencies()\n",
            "  File \"/usr/local/lib/python3.8/dist-packages/pip/_vendor/pkg_resources/__init__.py\", line 3033, in _compute_dependencies\n",
            "    reqs.extend(parse_requirements(req))\n",
            "  File \"/usr/local/lib/python3.8/dist-packages/pip/_vendor/pkg_resources/__init__.py\", line 3094, in parse_requirements\n",
            "    yield Requirement(line)\n",
            "  File \"/usr/local/lib/python3.8/dist-packages/pip/_vendor/pkg_resources/__init__.py\", line 3101, in __init__\n",
            "    super(Requirement, self).__init__(requirement_string)\n",
            "  File \"/usr/local/lib/python3.8/dist-packages/pip/_vendor/packaging/requirements.py\", line 102, in __init__\n",
            "    req = REQUIREMENT.parseString(requirement_string)\n",
            "  File \"/usr/local/lib/python3.8/dist-packages/pip/_vendor/pyparsing/core.py\", line 1124, in parse_string\n",
            "    loc, tokens = self._parse(instring, 0)\n",
            "  File \"/usr/local/lib/python3.8/dist-packages/pip/_vendor/pyparsing/core.py\", line 810, in _parseNoCache\n",
            "    loc, tokens = self.parseImpl(instring, pre_loc, doActions)\n",
            "  File \"/usr/local/lib/python3.8/dist-packages/pip/_vendor/pyparsing/core.py\", line 3863, in parseImpl\n",
            "    loc, exprtokens = e._parse(instring, loc, doActions)\n",
            "  File \"/usr/local/lib/python3.8/dist-packages/pip/_vendor/pyparsing/core.py\", line 810, in _parseNoCache\n",
            "    loc, tokens = self.parseImpl(instring, pre_loc, doActions)\n",
            "  File \"/usr/local/lib/python3.8/dist-packages/pip/_vendor/pyparsing/core.py\", line 4091, in parseImpl\n",
            "    return e._parse(\n",
            "  File \"/usr/local/lib/python3.8/dist-packages/pip/_vendor/pyparsing/core.py\", line 810, in _parseNoCache\n",
            "    loc, tokens = self.parseImpl(instring, pre_loc, doActions)\n",
            "  File \"/usr/local/lib/python3.8/dist-packages/pip/_vendor/pyparsing/core.py\", line 3863, in parseImpl\n",
            "    loc, exprtokens = e._parse(instring, loc, doActions)\n",
            "  File \"/usr/local/lib/python3.8/dist-packages/pip/_vendor/pyparsing/core.py\", line 810, in _parseNoCache\n",
            "    loc, tokens = self.parseImpl(instring, pre_loc, doActions)\n",
            "  File \"/usr/local/lib/python3.8/dist-packages/pip/_vendor/pyparsing/core.py\", line 4936, in parseImpl\n",
            "    loc, tokens = self_expr._parse(instring, loc, doActions, callPreParse=False)\n",
            "  File \"/usr/local/lib/python3.8/dist-packages/pip/_vendor/pyparsing/core.py\", line 810, in _parseNoCache\n",
            "    loc, tokens = self.parseImpl(instring, pre_loc, doActions)\n",
            "  File \"/usr/local/lib/python3.8/dist-packages/pip/_vendor/pyparsing/core.py\", line 3863, in parseImpl\n",
            "    loc, exprtokens = e._parse(instring, loc, doActions)\n",
            "  File \"/usr/local/lib/python3.8/dist-packages/pip/_vendor/pyparsing/core.py\", line 810, in _parseNoCache\n",
            "    loc, tokens = self.parseImpl(instring, pre_loc, doActions)\n",
            "  File \"/usr/local/lib/python3.8/dist-packages/pip/_vendor/pyparsing/core.py\", line 3863, in parseImpl\n",
            "    loc, exprtokens = e._parse(instring, loc, doActions)\n",
            "  File \"/usr/local/lib/python3.8/dist-packages/pip/_vendor/pyparsing/core.py\", line 810, in _parseNoCache\n",
            "    loc, tokens = self.parseImpl(instring, pre_loc, doActions)\n",
            "  File \"/usr/local/lib/python3.8/dist-packages/pip/_vendor/pyparsing/core.py\", line 5203, in parseImpl\n",
            "    return super().parseImpl(instring, loc, doActions)\n",
            "  File \"/usr/local/lib/python3.8/dist-packages/pip/_vendor/pyparsing/core.py\", line 4352, in parseImpl\n",
            "    return self.expr._parse(instring, loc, doActions, callPreParse=False)\n",
            "  File \"/usr/local/lib/python3.8/dist-packages/pip/_vendor/pyparsing/core.py\", line 810, in _parseNoCache\n",
            "    loc, tokens = self.parseImpl(instring, pre_loc, doActions)\n",
            "  File \"/usr/local/lib/python3.8/dist-packages/pip/_vendor/pyparsing/core.py\", line 3841, in parseImpl\n",
            "    loc, resultlist = self.exprs[0]._parse(\n",
            "  File \"/usr/local/lib/python3.8/dist-packages/pip/_vendor/pyparsing/core.py\", line 810, in _parseNoCache\n",
            "    loc, tokens = self.parseImpl(instring, pre_loc, doActions)\n",
            "  File \"/usr/local/lib/python3.8/dist-packages/pip/_vendor/pyparsing/core.py\", line 4091, in parseImpl\n",
            "    return e._parse(\n",
            "  File \"/usr/local/lib/python3.8/dist-packages/pip/_vendor/pyparsing/core.py\", line 810, in _parseNoCache\n",
            "    loc, tokens = self.parseImpl(instring, pre_loc, doActions)\n",
            "  File \"/usr/local/lib/python3.8/dist-packages/pip/_vendor/pyparsing/core.py\", line 4352, in parseImpl\n",
            "    return self.expr._parse(instring, loc, doActions, callPreParse=False)\n",
            "  File \"/usr/local/lib/python3.8/dist-packages/pip/_vendor/pyparsing/core.py\", line 810, in _parseNoCache\n",
            "    loc, tokens = self.parseImpl(instring, pre_loc, doActions)\n",
            "  File \"/usr/local/lib/python3.8/dist-packages/pip/_vendor/pyparsing/core.py\", line 3841, in parseImpl\n",
            "    loc, resultlist = self.exprs[0]._parse(\n",
            "  File \"/usr/local/lib/python3.8/dist-packages/pip/_vendor/pyparsing/core.py\", line 810, in _parseNoCache\n",
            "    loc, tokens = self.parseImpl(instring, pre_loc, doActions)\n",
            "  File \"/usr/local/lib/python3.8/dist-packages/pip/_vendor/pyparsing/core.py\", line 4091, in parseImpl\n",
            "    return e._parse(\n",
            "  File \"/usr/local/lib/python3.8/dist-packages/pip/_vendor/pyparsing/core.py\", line 810, in _parseNoCache\n",
            "    loc, tokens = self.parseImpl(instring, pre_loc, doActions)\n",
            "  File \"/usr/local/lib/python3.8/dist-packages/pip/_vendor/pyparsing/core.py\", line 4103, in parseImpl\n",
            "    maxExcLoc = err.loc\n",
            "KeyboardInterrupt\n",
            "\n",
            "During handling of the above exception, another exception occurred:\n",
            "\n",
            "Traceback (most recent call last):\n",
            "  File \"/usr/local/bin/pip3\", line 8, in <module>\n",
            "    sys.exit(main())\n",
            "  File \"/usr/local/lib/python3.8/dist-packages/pip/_internal/cli/main.py\", line 70, in main\n",
            "    return command.main(cmd_args)\n",
            "  File \"/usr/local/lib/python3.8/dist-packages/pip/_internal/cli/base_command.py\", line 101, in main\n",
            "    return self._main(args)\n",
            "  File \"/usr/local/lib/python3.8/dist-packages/pip/_internal/cli/base_command.py\", line 221, in _main\n",
            "    return run(options, args)\n",
            "  File \"/usr/local/lib/python3.8/dist-packages/pip/_internal/cli/base_command.py\", line 205, in exc_logging_wrapper\n",
            "    logger.debug(\"Exception information:\", exc_info=True)\n",
            "  File \"/usr/lib/python3.8/logging/__init__.py\", line 1434, in debug\n",
            "    self._log(DEBUG, msg, args, **kwargs)\n",
            "  File \"/usr/lib/python3.8/logging/__init__.py\", line 1589, in _log\n",
            "    self.handle(record)\n",
            "  File \"/usr/lib/python3.8/logging/__init__.py\", line 1599, in handle\n",
            "    self.callHandlers(record)\n",
            "  File \"/usr/lib/python3.8/logging/__init__.py\", line 1661, in callHandlers\n",
            "    hdlr.handle(record)\n",
            "  File \"/usr/lib/python3.8/logging/__init__.py\", line 954, in handle\n",
            "    self.emit(record)\n",
            "  File \"/usr/lib/python3.8/logging/handlers.py\", line 71, in emit\n",
            "    logging.FileHandler.emit(self, record)\n",
            "  File \"/usr/lib/python3.8/logging/__init__.py\", line 1187, in emit\n",
            "    StreamHandler.emit(self, record)\n",
            "  File \"/usr/lib/python3.8/logging/__init__.py\", line 1085, in emit\n",
            "    msg = self.format(record)\n",
            "  File \"/usr/lib/python3.8/logging/__init__.py\", line 929, in format\n",
            "    return fmt.format(record)\n",
            "  File \"/usr/local/lib/python3.8/dist-packages/pip/_internal/utils/logging.py\", line 110, in format\n",
            "    formatted = super().format(record)\n",
            "  File \"/usr/lib/python3.8/logging/__init__.py\", line 676, in format\n",
            "    record.exc_text = self.formatException(record.exc_info)\n",
            "  File \"/usr/lib/python3.8/logging/__init__.py\", line 626, in formatException\n",
            "    traceback.print_exception(ei[0], ei[1], tb, None, sio)\n",
            "  File \"/usr/lib/python3.8/traceback.py\", line 103, in print_exception\n",
            "    for line in TracebackException(\n",
            "  File \"/usr/lib/python3.8/traceback.py\", line 508, in __init__\n",
            "    self.stack = StackSummary.extract(\n",
            "  File \"/usr/lib/python3.8/traceback.py\", line 366, in extract\n",
            "    f.line\n",
            "  File \"/usr/lib/python3.8/traceback.py\", line 288, in line\n",
            "    self._line = linecache.getline(self.filename, self.lineno).strip()\n",
            "  File \"/usr/lib/python3.8/linecache.py\", line 16, in getline\n",
            "    lines = getlines(filename, module_globals)\n",
            "  File \"/usr/lib/python3.8/linecache.py\", line 44, in getlines\n",
            "    return cache[filename][2]\n",
            "KeyboardInterrupt\n",
            "^C\n"
          ]
        }
      ]
    },
    {
      "cell_type": "code",
      "source": [
        "import torch, argparse, os, shutil, inspect, json, numpy, math\n",
        "from easydict import EasyDict\n",
        "import intervention_experiment\n",
        "import dissect_experiment\n",
        "from intervention_experiment import sharedfile, test_perclass_pra\n",
        "from dissect_experiment import make_upfn\n",
        "import setting\n",
        "import pbar, nethook, renormalize, parallelfolder, pidfile\n",
        "import upsample, tally, imgviz, imgsave, bargraph, show\n",
        "\n",
        "torch.set_grad_enabled(False)\n",
        "\n",
        "# choices are alexnet, vgg16, or resnet152.\n",
        "args = EasyDict(model='vgg16', dataset='places', seg='netpqc', quantile=0.01, layer='features.conv5_3')\n",
        "resdir = 'results/%s-%s-%s-%s-%d' % (args.model, args.dataset, args.seg, args.layer, args.quantile*1000)\n",
        "def resfile(f):\n",
        "    return os.path.join(resdir, f)"
      ],
      "metadata": {
        "id": "xmdYjkasqPVx"
      },
      "execution_count": 3,
      "outputs": []
    },
    {
      "cell_type": "code",
      "source": [
        "model = setting.load_classifier(args.model)\n",
        "model = nethook.InstrumentedModel(model).cuda().eval()\n",
        "layername = args.layer\n",
        "model.retain_layer(layername)\n",
        "dataset = setting.load_dataset(args.dataset, crop_size=224)\n",
        "train_dataset = setting.load_dataset(args.dataset, crop_size=224,\n",
        "        split='train')\n",
        "sample_size = len(dataset)\n",
        "\n",
        "# Probe layer to get sizes\n",
        "model(dataset[0][0][None].cuda())\n",
        "num_units = model.retained_layer(layername).shape[1]\n",
        "classlabels = dataset.classes"
      ],
      "metadata": {
        "id": "Mqimk6J5qBo3",
        "outputId": "c3412640-1ad9-42d7-c15a-cd80cd04b4be",
        "colab": {
          "base_uri": "https://localhost:8080/",
          "height": 333,
          "referenced_widgets": [
            "87f495a83e8e42149ef35d3ed1d31c67",
            "f9e967dbff6e40cfbb2080d3dd26de03",
            "5f75d43d6c6b4a59bf582c9c41ce9cb1",
            "54a7d2c6cf9c44309aa33de6159095a4",
            "1c63a150e94f45eb97dbce99c5a28695",
            "f5cab9f9e9ed4df59acc2f59fc4db4e9",
            "6852ec620fe348ddafbc3fce5f26fc1f",
            "6633e51518524daeb76f6fce548f22e6",
            "6da97ad136504d2a804b2806e4a406da",
            "ba8b1950f43a439c9e0e1f612ecd6dba",
            "4b4d9fa2f68246b38d3500b8555c407d"
          ]
        }
      },
      "execution_count": 4,
      "outputs": [
        {
          "output_type": "stream",
          "name": "stdout",
          "text": [
            "Downloading https://dissect.csail.mit.edu/datasets/places_train.zip to datasets/places_train.zip\n"
          ]
        },
        {
          "output_type": "display_data",
          "data": {
            "text/plain": [
              "  0%|          | 0/24811660325 [00:00<?, ?it/s]"
            ],
            "application/vnd.jupyter.widget-view+json": {
              "version_major": 2,
              "version_minor": 0,
              "model_id": "87f495a83e8e42149ef35d3ed1d31c67"
            }
          },
          "metadata": {}
        },
        {
          "output_type": "stream",
          "name": "stdout",
          "text": [
            "Extracting datasets/places_train.zip to datasets\n"
          ]
        },
        {
          "output_type": "error",
          "ename": "TypeError",
          "evalue": "ignored",
          "traceback": [
            "\u001b[0;31m---------------------------------------------------------------------------\u001b[0m",
            "\u001b[0;31mTypeError\u001b[0m                                 Traceback (most recent call last)",
            "\u001b[0;32m<ipython-input-4-fd0e5b2c4fe6>\u001b[0m in \u001b[0;36m<module>\u001b[0;34m\u001b[0m\n\u001b[1;32m      6\u001b[0m train_dataset = setting.load_dataset(args.dataset, crop_size=224,\n\u001b[1;32m      7\u001b[0m         split='train')\n\u001b[0;32m----> 8\u001b[0;31m \u001b[0msample_size\u001b[0m \u001b[0;34m=\u001b[0m \u001b[0mlen\u001b[0m\u001b[0;34m(\u001b[0m\u001b[0mdataset\u001b[0m\u001b[0;34m)\u001b[0m\u001b[0;34m\u001b[0m\u001b[0;34m\u001b[0m\u001b[0m\n\u001b[0m\u001b[1;32m      9\u001b[0m \u001b[0;34m\u001b[0m\u001b[0m\n\u001b[1;32m     10\u001b[0m \u001b[0;31m# Probe layer to get sizes\u001b[0m\u001b[0;34m\u001b[0m\u001b[0;34m\u001b[0m\u001b[0;34m\u001b[0m\u001b[0m\n",
            "\u001b[0;31mTypeError\u001b[0m: object of type 'NoneType' has no len()"
          ]
        }
      ]
    },
    {
      "cell_type": "code",
      "source": [
        "baseline_precision, baseline_recall, baseline_accuracy, baseline_ba  = (\n",
        "    test_perclass_pra(\n",
        "        model, dataset,\n",
        "        cachefile=sharedfile('pra-%s-%s/pra_baseline.npz'\n",
        "            % (args.model, args.dataset))))"
      ],
      "metadata": {
        "id": "70IRWie2qBra"
      },
      "execution_count": null,
      "outputs": []
    },
    {
      "cell_type": "code",
      "source": [
        "# Now erase each unit, one at a time, and retest accuracy.\n",
        "unit_list = random.sample(list(range(num_units)), num_units)\n",
        "val_single_unit_ablation_ba = torch.zeros(num_units, len(classlabels))\n",
        "for unit in pbar(unit_list):\n",
        "    pbar.descnext('test unit %d' % unit)\n",
        "    # Get binary accuracy if the model after ablating the unit.\n",
        "    _, _, _, ablation_ba = test_perclass_pra(\n",
        "            model, dataset,\n",
        "            layername=layername,\n",
        "            ablated_units=[unit],\n",
        "            cachefile=sharedfile('pra-%s-%s/pra_ablate_unit_%d.npz' %\n",
        "                (args.model, args.dataset, unit)))\n",
        "    val_single_unit_ablation_ba[unit] = ablation_ba"
      ],
      "metadata": {
        "id": "okqrwgpVqBuK"
      },
      "execution_count": null,
      "outputs": []
    },
    {
      "cell_type": "code",
      "source": [],
      "metadata": {
        "id": "CTPPnaDkqBw1"
      },
      "execution_count": null,
      "outputs": []
    },
    {
      "cell_type": "code",
      "source": [],
      "metadata": {
        "id": "ywOmttI6qBzq"
      },
      "execution_count": null,
      "outputs": []
    },
    {
      "cell_type": "code",
      "source": [],
      "metadata": {
        "id": "CaHInO9LqB2e"
      },
      "execution_count": null,
      "outputs": []
    },
    {
      "cell_type": "code",
      "source": [],
      "metadata": {
        "id": "cUDoXnvLqB5E"
      },
      "execution_count": null,
      "outputs": []
    },
    {
      "cell_type": "code",
      "source": [],
      "metadata": {
        "id": "X0zneUjYqB78"
      },
      "execution_count": null,
      "outputs": []
    },
    {
      "cell_type": "code",
      "source": [],
      "metadata": {
        "id": "I6AI8GPIqB-s"
      },
      "execution_count": null,
      "outputs": []
    },
    {
      "cell_type": "code",
      "source": [],
      "metadata": {
        "id": "gUtths_BqCBk"
      },
      "execution_count": null,
      "outputs": []
    },
    {
      "cell_type": "markdown",
      "source": [
        "## Notebook"
      ],
      "metadata": {
        "id": "rjrnVbixqCii"
      }
    },
    {
      "cell_type": "code",
      "execution_count": 1,
      "metadata": {
        "id": "GOjmVWBiwrdX"
      },
      "outputs": [],
      "source": [
        "%matplotlib inline\n",
        "%config InlineBackend.figure_format = 'retina'\n",
        "\n",
        "import matplotlib.pyplot as plt\n",
        "import matplotlib as mpl\n",
        "from importlib import reload\n",
        "import IPython\n",
        "mpl.rcParams['lines.linewidth'] = 0.25\n",
        "mpl.rcParams['axes.spines.top'] = False\n",
        "mpl.rcParams['axes.spines.right'] = False\n",
        "mpl.rcParams['axes.linewidth'] = 0.25"
      ]
    },
    {
      "cell_type": "code",
      "source": [
        "import torch, argparse, os, shutil, inspect, json, numpy, math\n",
        "from easydict import EasyDict\n",
        "import intervention_experiment\n",
        "import dissect_experiment\n",
        "from intervention_experiment import sharedfile\n",
        "from dissect_experiment import make_upfn\n",
        "import setting\n",
        "import pbar, nethook, renormalize, parallelfolder, pidfile\n",
        "import upsample, tally, imgviz, imgsave, bargraph, show\n",
        "\n",
        "torch.set_grad_enabled(False)\n",
        "\n",
        "# choices are alexnet, vgg16, or resnet152.\n",
        "args = EasyDict(model='vgg16', dataset='places', seg='netpqc', quantile=0.01, layer='conv5_3')\n",
        "resdir = 'results/%s-%s-%s-%s-%d' % (args.model, args.dataset, args.seg, args.layer, args.quantile*1000)\n",
        "def resfile(f):\n",
        "    return os.path.join(resdir, f)"
      ],
      "metadata": {
        "id": "XzAvlQwDw5Mw",
        "outputId": "746fcf1e-ab0b-4866-e561-2ba11b167c2a",
        "colab": {
          "base_uri": "https://localhost:8080/"
        }
      },
      "execution_count": 2,
      "outputs": [
        {
          "output_type": "stream",
          "name": "stderr",
          "text": [
            "/content/segmenter.py:336: SyntaxWarning: \"is not\" with a literal. Did you mean \"!=\"?\n",
            "  assert result is not 0, 'unrecognized class %d' % classnum\n"
          ]
        }
      ]
    },
    {
      "cell_type": "code",
      "source": [
        "!rm -rf 'datasets'\n"
      ],
      "metadata": {
        "id": "gGe9OprgH-ai"
      },
      "execution_count": 6,
      "outputs": []
    },
    {
      "cell_type": "code",
      "source": [
        "model = nethook.InstrumentedModel(setting.load_classifier(args.model).cuda())\n",
        "layername = 'features.conv5_3'\n",
        "model.retain_layer(layername)\n",
        "dataset = setting.load_dataset('places')\n",
        "upfn = make_upfn(args, dataset, model, layername)\n",
        "sample_size = len(dataset)\n",
        "percent_level = 1 - args.quantile"
      ],
      "metadata": {
        "id": "OS8EFxq_xB_G",
        "outputId": "ae65c91f-dd25-492f-dbb0-931cf0a7e6a4",
        "colab": {
          "base_uri": "https://localhost:8080/",
          "height": 210,
          "referenced_widgets": [
            "8307f34413fc4ea98d5d18d7830cf1b2",
            "d8ffa52da33e4b42bada48198738fc78",
            "c4386ac7b35441c3a8e8b14f7c8178ac",
            "8c94b678136c418f904753251ad3c2ab",
            "a977f6812c99407186c99a324b98cd81",
            "808853ce2333479384b2873f861a975f",
            "bec618af4319497c8eb9ad5351361c12",
            "75d1673dfec0456f8d100ccdc10dca76",
            "429a83daa37a4e209f1ce4306115db2d",
            "fecf71580a67409d98a3c8781c1cde15",
            "335e1b1563e84792ba1ba1ca62e9e73a",
            "a4725aa17d20448393965c34cd462e8e",
            "f343c2e5f5c8497191cb77603a9e6d49",
            "cf73acdcb20543a5b1a700087681aef5",
            "3e94d9c552294f3cb66e7e4fe21fa554",
            "cb11414d41b3486096d5a237a0590dab",
            "b9e4c93a276c4c29817ae640353e6140",
            "4c0804338ffd46a4998ed1b1eb60756f",
            "4c4fbe19869c4c8089c6c75bf5984c6f",
            "b6f149f11b3b41a2b37989eee0758746",
            "8bb3d18a8cd4415bbad31a63521eee01",
            "08b2068579f2434ab7921b0d89a36c0d"
          ]
        }
      },
      "execution_count": 3,
      "outputs": [
        {
          "output_type": "stream",
          "name": "stderr",
          "text": [
            "Downloading: \"https://dissect.csail.mit.edu/models/vgg16_places365-0bafbc55.pth\" to /root/.cache/torch/hub/checkpoints/vgg16_places365-0bafbc55.pth\n"
          ]
        },
        {
          "output_type": "display_data",
          "data": {
            "text/plain": [
              "  0%|          | 0.00/518M [00:00<?, ?B/s]"
            ],
            "application/vnd.jupyter.widget-view+json": {
              "version_major": 2,
              "version_minor": 0,
              "model_id": "8307f34413fc4ea98d5d18d7830cf1b2"
            }
          },
          "metadata": {}
        },
        {
          "output_type": "stream",
          "name": "stdout",
          "text": [
            "Downloading https://dissect.csail.mit.edu/datasets/places_val.zip to datasets/places_val.zip\n"
          ]
        },
        {
          "output_type": "display_data",
          "data": {
            "text/plain": [
              "  0%|          | 0/499777515 [00:00<?, ?it/s]"
            ],
            "application/vnd.jupyter.widget-view+json": {
              "version_major": 2,
              "version_minor": 0,
              "model_id": "a4725aa17d20448393965c34cd462e8e"
            }
          },
          "metadata": {}
        },
        {
          "output_type": "stream",
          "name": "stdout",
          "text": [
            "Extracting datasets/places_val.zip to datasets\n"
          ]
        },
        {
          "output_type": "stream",
          "name": "stderr",
          "text": [
            "/usr/local/lib/python3.8/dist-packages/torch/nn/functional.py:718: UserWarning: Named tensors and all their associated APIs are an experimental feature and subject to change. Please do not use them for anything important until they are released as stable. (Triggered internally at  /pytorch/c10/core/TensorImpl.h:1156.)\n",
            "  return torch.max_pool2d(input, kernel_size, stride, padding, dilation, ceil_mode)\n"
          ]
        },
        {
          "output_type": "stream",
          "name": "stdout",
          "text": [
            "upsampling from data_shape (14, 14)\n"
          ]
        }
      ]
    },
    {
      "cell_type": "code",
      "source": [
        "# Classifier labels\n",
        "from urllib.request import urlopen\n",
        "import renormalize\n",
        "\n",
        "# synset_url = 'http://gandissect.csail.mit.edu/models/categories_places365.txt'\n",
        "# classlabels = [r.split(' ')[0][3:] for r in urlopen(synset_url).read().decode('utf-8').split('\\n')]\n",
        "classlabels = dataset.classes\n",
        "segmodel, seglabels, segcatlabels = setting.load_segmenter('netpqc')\n",
        "renorm = renormalize.renormalizer(dataset)"
      ],
      "metadata": {
        "id": "sVAezTocxCEh",
        "outputId": "6a1024a2-a289-4dd2-9393-adda50860839",
        "colab": {
          "base_uri": "https://localhost:8080/"
        }
      },
      "execution_count": 4,
      "outputs": [
        {
          "output_type": "stream",
          "name": "stdout",
          "text": [
            "Downloading https://dissect.csail.mit.edu/models/segmodel/upp-resnet50-upernet/decoder_epoch_40.pth\n",
            "Downloading https://dissect.csail.mit.edu/models/segmodel/upp-resnet50-upernet/encoder_epoch_40.pth\n",
            "Downloading https://dissect.csail.mit.edu/models/segmodel/upp-resnet50-upernet/labels.json\n",
            "Downloading https://dissect.csail.mit.edu/models/segmodel/color-resnet18dilated-ppm_deepsup/decoder_epoch_20.pth\n",
            "Downloading https://dissect.csail.mit.edu/models/segmodel/color-resnet18dilated-ppm_deepsup/encoder_epoch_20.pth\n",
            "Downloading https://dissect.csail.mit.edu/models/segmodel/color-resnet18dilated-ppm_deepsup/labels.json\n",
            "Loading weights for net_encoder\n",
            "Loading weights for net_decoder\n"
          ]
        }
      ]
    },
    {
      "cell_type": "code",
      "source": [
        "# Use the segmodel for segmentations.  With broden, we could use ground truth instead.\n",
        "def compute_conditional_indicator(batch, *args):\n",
        "    image_batch = batch.cuda()\n",
        "    seg = segmodel.segment_batch(renorm(image_batch), downsample=4)\n",
        "    _ = model(image_batch)\n",
        "    acts = model.retained_layer(layername)\n",
        "    hacts = upfn(acts)\n",
        "    iacts = (hacts > level_at_99).float() # indicator\n",
        "    return tally.conditional_samples(iacts, seg)\n",
        "pbar.descnext('condi99')\n",
        "condi99 = tally.tally_conditional_mean(compute_conditional_indicator,\n",
        "        dataset, sample_size=sample_size,\n",
        "        num_workers=3, pin_memory=True,\n",
        "        cachefile=resfile('condi99.npz'))\n",
        "iou_99 = tally.iou_from_conditional_indicator_mean(condi99)\n",
        "unit_label_99 = [\n",
        "        (concept.item(), seglabels[concept], segcatlabels[concept], bestiou.item())\n",
        "        for (bestiou, concept) in zip(*iou_99.max(0))]\n",
        "label_list = [label for concept, label, labelcat, iou in unit_label_99 if iou > 0.025]\n",
        "labelcat_list = [labelcat for concept, label, labelcat, iou in unit_label_99 if iou > 0.025]\n",
        "display(IPython.display.SVG(dissect_experiment.graph_conceptcatlist(labelcat_list)))"
      ],
      "metadata": {
        "id": "1DvDorTwxWJt",
        "outputId": "e13348b6-fa59-45e5-fe64-f08667734446",
        "colab": {
          "base_uri": "https://localhost:8080/",
          "height": 507
        }
      },
      "execution_count": 5,
      "outputs": [
        {
          "output_type": "stream",
          "name": "stderr",
          "text": [
            "/usr/local/lib/python3.8/dist-packages/torch/utils/data/dataloader.py:478: UserWarning: This DataLoader will create 3 worker processes in total. Our suggested max number of worker in current system is 2, which is smaller than what this DataLoader is going to create. Please be aware that excessive worker creation might get DataLoader running slow or even freeze, lower the worker number to avoid potential slowness/freeze if necessary.\n",
            "  warnings.warn(_create_warning_msg(\n",
            "condi99:   0%|          | 0/36500 [00:00<?, ?it/s]/usr/local/lib/python3.8/dist-packages/torch/_tensor.py:575: UserWarning: floor_divide is deprecated, and will be removed in a future version of pytorch. It currently rounds toward 0 (like the 'trunc' function NOT 'floor'). This results in incorrect rounding for negative values.\n",
            "To keep the current behavior, use torch.div(a, b, rounding_mode='trunc'), or for actual floor division, use torch.div(a, b, rounding_mode='floor'). (Triggered internally at  /pytorch/aten/src/ATen/native/BinaryOps.cpp:467.)\n",
            "  return torch.floor_divide(self, other)\n"
          ]
        },
        {
          "output_type": "error",
          "ename": "NameError",
          "evalue": "ignored",
          "traceback": [
            "\u001b[0;31m---------------------------------------------------------------------------\u001b[0m",
            "\u001b[0;31mNameError\u001b[0m                                 Traceback (most recent call last)",
            "\u001b[0;32m<ipython-input-5-528241a269dc>\u001b[0m in \u001b[0;36m<module>\u001b[0;34m\u001b[0m\n\u001b[1;32m      9\u001b[0m     \u001b[0;32mreturn\u001b[0m \u001b[0mtally\u001b[0m\u001b[0;34m.\u001b[0m\u001b[0mconditional_samples\u001b[0m\u001b[0;34m(\u001b[0m\u001b[0miacts\u001b[0m\u001b[0;34m,\u001b[0m \u001b[0mseg\u001b[0m\u001b[0;34m)\u001b[0m\u001b[0;34m\u001b[0m\u001b[0;34m\u001b[0m\u001b[0m\n\u001b[1;32m     10\u001b[0m \u001b[0mpbar\u001b[0m\u001b[0;34m.\u001b[0m\u001b[0mdescnext\u001b[0m\u001b[0;34m(\u001b[0m\u001b[0;34m'condi99'\u001b[0m\u001b[0;34m)\u001b[0m\u001b[0;34m\u001b[0m\u001b[0;34m\u001b[0m\u001b[0m\n\u001b[0;32m---> 11\u001b[0;31m condi99 = tally.tally_conditional_mean(compute_conditional_indicator,\n\u001b[0m\u001b[1;32m     12\u001b[0m         \u001b[0mdataset\u001b[0m\u001b[0;34m,\u001b[0m \u001b[0msample_size\u001b[0m\u001b[0;34m=\u001b[0m\u001b[0msample_size\u001b[0m\u001b[0;34m,\u001b[0m\u001b[0;34m\u001b[0m\u001b[0;34m\u001b[0m\u001b[0m\n\u001b[1;32m     13\u001b[0m         \u001b[0mnum_workers\u001b[0m\u001b[0;34m=\u001b[0m\u001b[0;36m3\u001b[0m\u001b[0;34m,\u001b[0m \u001b[0mpin_memory\u001b[0m\u001b[0;34m=\u001b[0m\u001b[0;32mTrue\u001b[0m\u001b[0;34m,\u001b[0m\u001b[0;34m\u001b[0m\u001b[0;34m\u001b[0m\u001b[0m\n",
            "\u001b[0;32m/content/tally.py\u001b[0m in \u001b[0;36mtally_conditional_mean\u001b[0;34m(compute, dataset, sample_size, batch_size, cachefile, **kwargs)\u001b[0m\n\u001b[1;32m    354\u001b[0m     \u001b[0mcv\u001b[0m \u001b[0;34m=\u001b[0m \u001b[0mrunningstats\u001b[0m\u001b[0;34m.\u001b[0m\u001b[0mRunningConditionalVariance\u001b[0m\u001b[0;34m(\u001b[0m\u001b[0;34m)\u001b[0m\u001b[0;34m\u001b[0m\u001b[0;34m\u001b[0m\u001b[0m\n\u001b[1;32m    355\u001b[0m     \u001b[0;32mfor\u001b[0m \u001b[0mi\u001b[0m\u001b[0;34m,\u001b[0m \u001b[0mbatch\u001b[0m \u001b[0;32min\u001b[0m \u001b[0menumerate\u001b[0m\u001b[0;34m(\u001b[0m\u001b[0mpbar\u001b[0m\u001b[0;34m(\u001b[0m\u001b[0mloader\u001b[0m\u001b[0;34m)\u001b[0m\u001b[0;34m)\u001b[0m\u001b[0;34m:\u001b[0m\u001b[0;34m\u001b[0m\u001b[0;34m\u001b[0m\u001b[0m\n\u001b[0;32m--> 356\u001b[0;31m         \u001b[0msample_set\u001b[0m \u001b[0;34m=\u001b[0m \u001b[0mcall_compute\u001b[0m\u001b[0;34m(\u001b[0m\u001b[0mcompute\u001b[0m\u001b[0;34m,\u001b[0m \u001b[0mbatch\u001b[0m\u001b[0;34m)\u001b[0m\u001b[0;34m\u001b[0m\u001b[0;34m\u001b[0m\u001b[0m\n\u001b[0m\u001b[1;32m    357\u001b[0m         \u001b[0;32mfor\u001b[0m \u001b[0mcond\u001b[0m\u001b[0;34m,\u001b[0m \u001b[0msample\u001b[0m \u001b[0;32min\u001b[0m \u001b[0msample_set\u001b[0m\u001b[0;34m:\u001b[0m\u001b[0;34m\u001b[0m\u001b[0;34m\u001b[0m\u001b[0m\n\u001b[1;32m    358\u001b[0m             \u001b[0;31m# Move uncommon conditional data to the cpu before collating.\u001b[0m\u001b[0;34m\u001b[0m\u001b[0;34m\u001b[0m\u001b[0;34m\u001b[0m\u001b[0m\n",
            "\u001b[0;32m/content/tally.py\u001b[0m in \u001b[0;36mcall_compute\u001b[0;34m(compute, batch)\u001b[0m\n\u001b[1;32m    669\u001b[0m     \u001b[0;34m'''Utility for passing a dataloader batch to a compute function.'''\u001b[0m\u001b[0;34m\u001b[0m\u001b[0;34m\u001b[0m\u001b[0m\n\u001b[1;32m    670\u001b[0m     \u001b[0;32mif\u001b[0m \u001b[0misinstance\u001b[0m\u001b[0;34m(\u001b[0m\u001b[0mbatch\u001b[0m\u001b[0;34m,\u001b[0m \u001b[0mlist\u001b[0m\u001b[0;34m)\u001b[0m\u001b[0;34m:\u001b[0m\u001b[0;34m\u001b[0m\u001b[0;34m\u001b[0m\u001b[0m\n\u001b[0;32m--> 671\u001b[0;31m         \u001b[0;32mreturn\u001b[0m \u001b[0mcompute\u001b[0m\u001b[0;34m(\u001b[0m\u001b[0;34m*\u001b[0m\u001b[0mbatch\u001b[0m\u001b[0;34m)\u001b[0m\u001b[0;34m\u001b[0m\u001b[0;34m\u001b[0m\u001b[0m\n\u001b[0m\u001b[1;32m    672\u001b[0m     \u001b[0;32melif\u001b[0m \u001b[0misinstance\u001b[0m\u001b[0;34m(\u001b[0m\u001b[0mbatch\u001b[0m\u001b[0;34m,\u001b[0m \u001b[0mdict\u001b[0m\u001b[0;34m)\u001b[0m\u001b[0;34m:\u001b[0m\u001b[0;34m\u001b[0m\u001b[0;34m\u001b[0m\u001b[0m\n\u001b[1;32m    673\u001b[0m         \u001b[0;32mreturn\u001b[0m \u001b[0mcompute\u001b[0m\u001b[0;34m(\u001b[0m\u001b[0;34m**\u001b[0m\u001b[0mbatch\u001b[0m\u001b[0;34m)\u001b[0m\u001b[0;34m\u001b[0m\u001b[0;34m\u001b[0m\u001b[0m\n",
            "\u001b[0;32m<ipython-input-5-528241a269dc>\u001b[0m in \u001b[0;36mcompute_conditional_indicator\u001b[0;34m(batch, *args)\u001b[0m\n\u001b[1;32m      6\u001b[0m     \u001b[0macts\u001b[0m \u001b[0;34m=\u001b[0m \u001b[0mmodel\u001b[0m\u001b[0;34m.\u001b[0m\u001b[0mretained_layer\u001b[0m\u001b[0;34m(\u001b[0m\u001b[0mlayername\u001b[0m\u001b[0;34m)\u001b[0m\u001b[0;34m\u001b[0m\u001b[0;34m\u001b[0m\u001b[0m\n\u001b[1;32m      7\u001b[0m     \u001b[0mhacts\u001b[0m \u001b[0;34m=\u001b[0m \u001b[0mupfn\u001b[0m\u001b[0;34m(\u001b[0m\u001b[0macts\u001b[0m\u001b[0;34m)\u001b[0m\u001b[0;34m\u001b[0m\u001b[0;34m\u001b[0m\u001b[0m\n\u001b[0;32m----> 8\u001b[0;31m     \u001b[0miacts\u001b[0m \u001b[0;34m=\u001b[0m \u001b[0;34m(\u001b[0m\u001b[0mhacts\u001b[0m \u001b[0;34m>\u001b[0m \u001b[0mlevel_at_99\u001b[0m\u001b[0;34m)\u001b[0m\u001b[0;34m.\u001b[0m\u001b[0mfloat\u001b[0m\u001b[0;34m(\u001b[0m\u001b[0;34m)\u001b[0m \u001b[0;31m# indicator\u001b[0m\u001b[0;34m\u001b[0m\u001b[0;34m\u001b[0m\u001b[0m\n\u001b[0m\u001b[1;32m      9\u001b[0m     \u001b[0;32mreturn\u001b[0m \u001b[0mtally\u001b[0m\u001b[0;34m.\u001b[0m\u001b[0mconditional_samples\u001b[0m\u001b[0;34m(\u001b[0m\u001b[0miacts\u001b[0m\u001b[0;34m,\u001b[0m \u001b[0mseg\u001b[0m\u001b[0;34m)\u001b[0m\u001b[0;34m\u001b[0m\u001b[0;34m\u001b[0m\u001b[0m\n\u001b[1;32m     10\u001b[0m \u001b[0mpbar\u001b[0m\u001b[0;34m.\u001b[0m\u001b[0mdescnext\u001b[0m\u001b[0;34m(\u001b[0m\u001b[0;34m'condi99'\u001b[0m\u001b[0;34m)\u001b[0m\u001b[0;34m\u001b[0m\u001b[0;34m\u001b[0m\u001b[0m\n",
            "\u001b[0;31mNameError\u001b[0m: name 'level_at_99' is not defined"
          ]
        }
      ]
    },
    {
      "cell_type": "code",
      "source": [
        "baseline_precision, baseline_recall, baseline_accuracy, baseline_ba  = (\n",
        "    intervention_experiment.test_perclass_pra(\n",
        "        model, dataset,\n",
        "        cachefile=sharedfile('pra-%s-%s/pra_baseline.npz'\n",
        "            % (args.model, args.dataset))))"
      ],
      "metadata": {
        "id": "ERB2aOgFxWMw"
      },
      "execution_count": null,
      "outputs": []
    },
    {
      "cell_type": "code",
      "source": [
        "baseline_recall.mean()\n"
      ],
      "metadata": {
        "id": "9KSdMrenxWPt"
      },
      "execution_count": null,
      "outputs": []
    },
    {
      "cell_type": "code",
      "source": [
        "seat_units = [u for u, [_, label, _, _] in enumerate(unit_label_99) if label.startswith('seat')]\n",
        "seat_units"
      ],
      "metadata": {
        "id": "63iNJQxoxjkS"
      },
      "execution_count": null,
      "outputs": []
    },
    {
      "cell_type": "code",
      "source": [
        "baseline_accuracy\n"
      ],
      "metadata": {
        "id": "dft8S-qRxjmn"
      },
      "execution_count": null,
      "outputs": []
    },
    {
      "cell_type": "code",
      "source": [
        "# Load all single-unit ablation accuracy\n",
        "num_units = dict(vgg16=512, alexnet=256)[args.model]\n",
        "single_unit_ablation_acc = torch.zeros(num_units, len(classlabels))\n",
        "single_unit_ablation_ba = torch.zeros(num_units, len(classlabels))\n",
        "single_unit_ablation_precision = torch.zeros(num_units, len(classlabels))\n",
        "single_unit_ablation_recall = torch.zeros(num_units, len(classlabels))\n",
        "\n",
        "for unit in range(num_units):\n",
        "    [single_unit_ablation_precision[unit], single_unit_ablation_recall[unit], single_unit_ablation_acc[unit], single_unit_ablation_ba[unit]\n",
        "    ] = intervention_experiment.test_perclass_pra(\n",
        "                model, dataset,\n",
        "                layername=layername,\n",
        "                ablated_units=[unit],\n",
        "                cachefile=sharedfile('pra-%s-%s/pra_ablate_unit_%d.npz' %\n",
        "                    (args.model, args.dataset, unit)))"
      ],
      "metadata": {
        "id": "zxP8FYILxjpb"
      },
      "execution_count": null,
      "outputs": []
    },
    {
      "cell_type": "code",
      "source": [
        "single_unit_ablation_acc[196,70]\n"
      ],
      "metadata": {
        "id": "SRDm92E9xjsR"
      },
      "execution_count": null,
      "outputs": []
    },
    {
      "cell_type": "code",
      "source": [
        "for classnum in range(len(classlabels)):\n",
        "    for unit in single_unit_ablation_ba[:,classnum].sort(0)[1]:\n",
        "        diff = single_unit_ablation_ba[unit, classnum] - baseline_ba[classnum]\n",
        "        if diff > -0.01:\n",
        "            break\n",
        "        print('%s: unit %d (%s) -> %.3f' % (\n",
        "            classlabels[classnum], unit, unit_label_99[unit][1],\n",
        "            diff ))"
      ],
      "metadata": {
        "id": "pFvUVHa5xjuz"
      },
      "execution_count": null,
      "outputs": []
    },
    {
      "cell_type": "code",
      "source": [
        "# Save and reload\n",
        "numpy.savez(resfile('unit_ablation.npz'),\n",
        "            single_unit_ablation_ba=single_unit_ablation_ba,\n",
        "            baseline_ba=baseline_ba)\n",
        "print(os.path.abspath(resfile('unit_ablation.npz')))\n",
        "data = numpy.load(resfile('unit_ablation.npz'))\n",
        "sua = torch.from_numpy(data['single_unit_ablation_ba'])\n",
        "base = torch.from_numpy(data['baseline_ba'])\n",
        "for classnum in range(len(classlabels)):\n",
        "    for unit in sua[:,classnum].sort(0)[1]:\n",
        "        diff = sua[unit, classnum] - base[classnum]\n",
        "        if diff > -0.01:\n",
        "            break\n",
        "        print('%s: unit %d (%s) -> %.3f' % (\n",
        "            classlabels[classnum], unit, unit_label_99[unit][1],\n",
        "            diff ))"
      ],
      "metadata": {
        "id": "05zJhOxdxjxl"
      },
      "execution_count": null,
      "outputs": []
    },
    {
      "cell_type": "code",
      "source": [
        "train_dataset = setting.load_dataset('places', 'train')\n"
      ],
      "metadata": {
        "id": "_CgCLQSSyC6N"
      },
      "execution_count": null,
      "outputs": []
    },
    {
      "cell_type": "code",
      "source": [
        "ttv_baseline_precision, ttv_baseline_recall, ttv_baseline_accuracy, ttv_baseline_ba  = (\n",
        "    intervention_experiment.test_perclass_pra(\n",
        "        model, train_dataset,\n",
        "        sample_size=sample_size,\n",
        "        cachefile=sharedfile('ttv-pra-%s-%s/pra_train_baseline.npz'\n",
        "            % (args.model, args.dataset))))\n",
        "    \n",
        "ttv_single_unit_ablation_ba = torch.zeros(num_units, len(classlabels))\n",
        "for unit in range(512):\n",
        "    pbar.descnext('test unit %d' % unit)\n",
        "    _, _, _, ablation_ba = intervention_experiment.test_perclass_pra(\n",
        "            model, train_dataset,\n",
        "            layername=layername,\n",
        "            ablated_units=[unit],\n",
        "            sample_size=sample_size,\n",
        "            cachefile=\n",
        "                sharedfile('ttv-pra-%s-%s/pra_train_ablate_unit_%d.npz' %\n",
        "                (args.model, args.dataset, unit)))\n",
        "    minacc, minclass = (ablation_ba - baseline_ba).min(0)\n",
        "    ttv_single_unit_ablation_ba[unit] = ablation_ba\n",
        "        \n",
        "ttv_ablate_salient = [0.0]\n",
        "ttv_ablate_nonsalient = [0.0]\n",
        "\n",
        "classnum = classlabels.index('ski_resort')\n",
        "for num_salient in range(1, 512):\n",
        "    unitlist = ttv_single_unit_ablation_ba[:,classnum].sort(0)[1][:num_salient]\n",
        "    _, _, _, testba = intervention_experiment.test_perclass_pra(model, dataset,\n",
        "            layername=layername,\n",
        "            ablated_units=unitlist,\n",
        "            cachefile=sharedfile('ttv-pra-%s-%s/pra_val_ablate_classunits_%s_ba_%d.npz' %\n",
        "                                 (args.model, args.dataset, classlabels[classnum], len(unitlist))))\n",
        "    # print([(classlabels[c], d.item()) for d, c in list(zip(*(testba - baseline_ba).sort(0)))[:5]])\n",
        "    ttv_ablate_salient.append((testba[classnum] - baseline_ba[classnum]).item())\n",
        "\n",
        "    unitlist = ttv_single_unit_ablation_ba[:,classnum].sort(0)[1][-num_salient:]\n",
        "    _, _, _, testba2 = intervention_experiment.test_perclass_pra(model, dataset,\n",
        "            layername=layername,\n",
        "            ablated_units=unitlist,\n",
        "            cachefile=sharedfile('ttv-pra-%s-%s/pra_val_ablate_classunits_%s_worstba_%d.npz' %\n",
        "                                 (args.model, args.dataset, classlabels[classnum], len(unitlist))))\n",
        "    # print([(classlabels[c], d.item()) for d, c in list(zip(*(testba2 - baseline_ba).sort(0)))[:5]])\n",
        "    ttv_ablate_nonsalient.append((testba2[classnum] - baseline_ba[classnum]).item())"
      ],
      "metadata": {
        "id": "jho-zPwzyhl8"
      },
      "execution_count": null,
      "outputs": []
    },
    {
      "cell_type": "code",
      "source": [
        "import matplotlib.ticker as mtick\n",
        "\n",
        "plt.style.use('dark_background')\n",
        "\n",
        "classnum = classlabels.index('ski_resort')\n",
        "b = baseline_ba[classnum].item()\n",
        "\n",
        "#fig, ax = plt.subplots(nrows=1, ncols=1, figsize=(6, 1.7), dpi=300)\n",
        "fig, ax = plt.subplots(nrows=1, ncols=1, figsize=(5.9, 3.1), dpi=300)\n",
        "#ax.axvline(20, color='gray', linewidth=0.5, linestyle='-')\n",
        "#ax.axvline(492, color='gray', linewidth=0.5, linestyle='-')\n",
        "ax.axhline(b, color='gray', linewidth=0.5, linestyle='-')\n",
        "\n",
        "\n",
        "ax.plot([y+b for y in ttv_ablate_salient], linewidth=1, label='Removing the most important units together',\n",
        "       c=\"#4B4CBF\")\n",
        "ax.plot([y+b for y in ttv_ablate_nonsalient] + [0.5], linewidth=1, label='Removing all but the most important units',\n",
        "       c=\"#F0883B\")\n",
        "if True:\n",
        "    ax.scatter([0, 20, 492], [b, b+ttv_ablate_salient[20], b+ttv_ablate_nonsalient[492]],\n",
        "           color=['#55B05B', \"#4B4CBF\", \"#F0883B\"], zorder=10,s=50)\n",
        "#    ax.scatter([0, 20, ], [b, b+ttv_ablate_salient[20], ],\n",
        "#           color=['#55B05B', \"#4B4CBF\", ], zorder=10,s=50)\n",
        "else:\n",
        "    ax.scatter([0, 2, 510], [b, b+ttv_ablate_salient[2], b+ttv_ablate_nonsalient[510]],\n",
        "           color=['#55B05B', \"#4B4CBF\", \"#F0883B\"], zorder=10,s=50)\n",
        "ax.set_xticks([0, 20, 128, 256, 384, 492, 512])\n",
        "ax.set_xticklabels([0, 20, 128, 256, 384, '492   ', '    512'])\n",
        "# ax.set_yticklabels(['40%', '50%', '60%', '70%', '80%', '90%'])\n",
        "#ax.set_yticks([0.5, 0.65, 0.8])\n",
        "ax.set_yticks([0.5, 0.6, 0.7, 0.8, 0.9, 1.0])\n",
        "ax.yaxis.set_major_formatter(mtick.PercentFormatter(xmax=1.0))\n",
        "ax.set_xlabel('number of conv5_3 units removed together')\n",
        "ax.set_ylabel('single-class accuracy')\n",
        "ax.set_ylim(0.5, 1.0)\n",
        "ax.legend(loc='center right', bbox_to_anchor=(0.95, 0.3))\n",
        "plt.savefig(\"ice-one-class.pdf\", bbox_inches='tight')\n",
        "\n",
        "print(b, b+ttv_ablate_salient[20], b+ttv_ablate_nonsalient[492])"
      ],
      "metadata": {
        "id": "OEbjdM7syho1"
      },
      "execution_count": null,
      "outputs": []
    },
    {
      "cell_type": "code",
      "source": [
        "len(train_dataset), len(dataset)\n"
      ],
      "metadata": {
        "id": "NuUb4CwRyhrX"
      },
      "execution_count": null,
      "outputs": []
    },
    {
      "cell_type": "code",
      "source": [
        "b + ttv_ablate_salient[4]\n"
      ],
      "metadata": {
        "id": "UNrVYbEqyhuF"
      },
      "execution_count": null,
      "outputs": []
    },
    {
      "cell_type": "code",
      "source": [
        "ttv_best_ba = []\n",
        "ttv_worst_ba = []\n",
        "ttv_base_ba = []\n",
        "ttv_best_ablate = []\n",
        "ttv_worst_ablate = []\n",
        "\n",
        "# Change this to 256 to see supplemental results\n",
        "num_best_units = 20\n",
        "\n",
        "for classnum in range(len(classlabels)):\n",
        "    unitlist = ttv_single_unit_ablation_ba[:,classnum].sort(0)[1][:num_best_units]\n",
        "    _, _, _, testba = intervention_experiment.test_perclass_pra(model, dataset,\n",
        "            layername=layername,\n",
        "            ablated_units=unitlist,\n",
        "            cachefile=sharedfile('ttv-pra-%s-%s/pra_val_ablate_classunits_%s_ba_%d.npz' %\n",
        "                                 (args.model, args.dataset, classlabels[classnum], len(unitlist))))\n",
        "    # print([(classlabels[c], d.item()) for d, c in list(zip(*(testba - baseline_ba).sort(0)))[:5]])\n",
        "    ttv_best_ba.append(testba[classnum].item())\n",
        "    ttv_base_ba.append(baseline_ba[classnum].item())\n",
        "    ttv_best_ablate.append((testba[classnum] - baseline_ba[classnum]).item())\n",
        "    unitlist = ttv_single_unit_ablation_ba[:,classnum].sort(0)[1][num_best_units - 512:]\n",
        "    _, _, _, testba2 = intervention_experiment.test_perclass_pra(model, dataset,\n",
        "            layername=layername,\n",
        "            ablated_units=unitlist,\n",
        "            cachefile=sharedfile('ttv-pra-%s-%s/pra_val_ablate_classunits_%s_worstba_%d.npz' %\n",
        "                                 (args.model, args.dataset, classlabels[classnum], len(unitlist))))\n",
        "    # print([(classlabels[c], d.item()) for d, c in list(zip(*(testba2 - baseline_ba).sort(0)))[:5]])\n",
        "    ttv_worst_ba.append(testba2[classnum].item())\n",
        "    ttv_worst_ablate.append((testba2[classnum] - baseline_ba[classnum]).item())"
      ],
      "metadata": {
        "id": "RmX_QRvTyhwp"
      },
      "execution_count": null,
      "outputs": []
    },
    {
      "cell_type": "code",
      "source": [
        "import seaborn as sns\n",
        "import random\n",
        "\n",
        "fig, [ax1, ax2] =plt.subplots(nrows=2, ncols=1, figsize=(6.5, 3), dpi=300,\n",
        "                              sharex='all')\n",
        "\n",
        "ax2.scatter(ttv_worst_ba, range(len(ttv_worst_ba)), alpha=0.5, s=10, c='#F0883B')\n",
        "ax2.scatter(ttv_best_ba, range(len(ttv_best_ba)), alpha=0.5, s=10, c='#4B4CBF')\n",
        "ax2.scatter(ttv_base_ba, range(len(ttv_base_ba)), alpha=0.5, s=10, c='#55B05B')\n",
        "ax2.get_yaxis().set_ticks([])\n",
        "ax2.set_ylabel('Scene class')\n",
        "\n",
        "\n",
        "ax1.axvline(numpy.array(ttv_best_ba).mean().item(), color='#B6B6F2', linewidth=1.5, linestyle='--')\n",
        "ax1.axvline(numpy.array(ttv_worst_ba).mean().item(), color='#F2CFB6', linewidth=1.5, linestyle='--')\n",
        "ax1.axvline(numpy.array(ttv_base_ba).mean().item(), color='#B6F2BA', linewidth=1.5, linestyle='--')\n",
        "\n",
        "\n",
        "sns.distplot(ttv_base_ba, kde=True, hist=False, kde_kws = {'linewidth': 3, \"color\":'#55B05B'},\n",
        "             label=\"No units removed, mean class accuracy=%.1f%%\" % (100*numpy.array(ttv_base_ba).mean().item()),\n",
        "            ax=ax1)\n",
        "if True:\n",
        "    sns.distplot(ttv_best_ba, kde=True, hist=False, kde_kws = {'linewidth': 3, \"color\":\"#4B4CBF\"},\n",
        "             label=\"%d units most damaging to class, mean=%.1f%%\" %\n",
        "             (num_best_units, 100*numpy.array(ttv_best_ba).mean().item()),\n",
        "            ax=ax1)\n",
        "sns.distplot(ttv_worst_ba, kde=True, hist=False, kde_kws = {'linewidth': 3, \"color\":\"#F0883B\"},\n",
        "             label=\"All %d other units removed, mean=%.1f%%\" %\n",
        "             (512 - num_best_units, 100*numpy.array(ttv_worst_ba).mean().item()),\n",
        "            ax=ax1)\n",
        "ax1.set_ylabel('Density')\n",
        "ax1.get_yaxis().set_ticks([])\n",
        "ax1.set_ylim([0, 20])\n",
        "ax2.set_xlabel('Balanced single-class accuracy when sets of units are removed')\n",
        "ax1.set_xlim(0.48, 1.02)\n",
        "ax2.set_xticklabels(['40%', '50%', '60%', '70%', '80%', '90%', '100%'])\n",
        "legend = ax1.legend(loc='upper right', bbox_to_anchor=(1, 1.1))\n",
        "# legend.get_frame().set_facecolor('none')\n",
        "legend.get_frame().set_edgecolor('none')\n",
        "plt.savefig(\"ice-all-classes.pdf\", bbox_inches='tight')"
      ],
      "metadata": {
        "id": "oHhLRr1gyhzP"
      },
      "execution_count": null,
      "outputs": []
    },
    {
      "cell_type": "code",
      "source": [
        "import seaborn as sns\n",
        "import random\n",
        "\n",
        "fig, [ax1, ax2] =plt.subplots(nrows=2, ncols=1, figsize=(8, 3), dpi=300,\n",
        "                              sharex='all')\n",
        "\n",
        "ax2.scatter(ttv_worst_ablate, range(len(ttv_worst_ablate)), alpha=0.5, s=10, c='#F0883B')\n",
        "ax2.scatter(ttv_best_ablate, range(len(ttv_best_ablate)), alpha=0.5, s=10, c='#4B4CBF')\n",
        "ax2.scatter([0] * len(ttv_best_ablate), range(len(ttv_best_ablate)), alpha=0.05, s=10, c='#55B05B')\n",
        "ax2.get_yaxis().set_ticks([])\n",
        "ax2.set_ylabel('Scene class')\n",
        "\n",
        "\n",
        "ax1.axvline(numpy.array(ttv_best_ablate).mean().item(), color='#B6B6F2', linewidth=1.5, linestyle='--')\n",
        "ax1.axvline(numpy.array(ttv_worst_ablate).mean().item(), color='#F2CFB6', linewidth=1.5, linestyle='--')\n",
        "\n",
        "\n",
        "sns.distplot(ttv_best_ablate, kde=True, hist=False, kde_kws = {'linewidth': 3, \"color\":\"#4B4CBF\"},\n",
        "             label=\"Removed most-important %d units, mean=%.1f%%\" %\n",
        "             (num_best_units, 100*numpy.array(ttv_best_ba).mean().item()),\n",
        "             ax=ax1)\n",
        "sns.distplot(ttv_worst_ablate, kde=True, hist=False, kde_kws = {'linewidth': 3, \"color\":\"#F0883B\"},\n",
        "             label=\"Kept only most-important %d units, mean=%.1f%%\" %\n",
        "             (num_best_units, 100*numpy.array(ttv_worst_ba).mean().item()),\n",
        "            ax=ax1)\n",
        "ax1.axvline(0, color='#55B05B', linewidth=3, linestyle='-', label='No units removed')\n",
        "ax1.set_ylabel('Density')\n",
        "ax1.get_yaxis().set_ticks([])\n",
        "ax1.set_ylim([0, 7])\n",
        "ax2.set_xlabel('Change in balanced single-class accuracy change when sets of units are removed')\n",
        "ax1.set_xlim(-0.57, 0.3)\n",
        "ax2.set_xticklabels(['-0.6', '-0.5', '-0.4', '-0.3', '-0.2', '-0.1', 'no change', 0.1, 0.2, 0.3])\n",
        "#legend = ax1.legend()\n",
        "legend = ax1.legend(loc='upper left', bbox_to_anchor=(-0.01, 1.25))\n",
        "\n",
        "legend.get_frame().set_facecolor('none')\n",
        "legend.get_frame().set_edgecolor('none')"
      ],
      "metadata": {
        "id": "lg6ERh6Wyh1X"
      },
      "execution_count": null,
      "outputs": []
    },
    {
      "cell_type": "code",
      "source": [
        "numpy.savez(resfile('ttv_unit_ablation.npz'),\n",
        "        single_unit_ablation_ba=ttv_single_unit_ablation_ba,\n",
        "        baseline_ba=ttv_baseline_ba)\n",
        "\n",
        "results = {}\n",
        "for classnum in range(len(classlabels)):\n",
        "    unitlist = []\n",
        "    for unit in ttv_single_unit_ablation_ba[:,classnum].sort(0)[1]:\n",
        "        diff = ttv_single_unit_ablation_ba[unit, classnum] - ttv_baseline_ba[classnum]\n",
        "        if diff > -0.005:\n",
        "            break\n",
        "        print('%s: unit %d -> %.3f' % (\n",
        "            classlabels[classnum], unit, diff ))\n",
        "        unitlist.append({'unit': unit.item(), 'val_acc': diff.item()})\n",
        "    results[classlabels[classnum]] = unitlist\n",
        "with open(resfile('ttv_unit_ablation.json'), 'w') as f:\n",
        "    json.dump(results, f, indent=1)\n",
        "    "
      ],
      "metadata": {
        "id": "5JGN5R2xy5P_"
      },
      "execution_count": null,
      "outputs": []
    },
    {
      "cell_type": "code",
      "source": [
        "\n",
        "def calculate_topN_accuracy(img, cls):\n",
        "    pred = model(img.cuda())\n",
        "    scores, choices = pred.sort(1)\n",
        "    correct = (choices.flip(1) == cls.cuda()[:,None].expand(choices.shape)).float()\n",
        "    cum_correct = correct.cumsum(1)\n",
        "    return cum_correct\n",
        "\n",
        "topN_acc = tally.tally_mean(calculate_topN_accuracy, dataset, batch_size=100, pin_memory=True,\n",
        "                    cachefile=sharedfile('pra-%s-%s/topn_accuracy.npz'\n",
        "                    % (args.model, args.dataset)))\n",
        "    "
      ],
      "metadata": {
        "id": "1W5jD6Tgy5Sx"
      },
      "execution_count": null,
      "outputs": []
    },
    {
      "cell_type": "code",
      "source": [
        "topN_acc.mean()\n"
      ],
      "metadata": {
        "id": "5Js1RkmGy5Vn"
      },
      "execution_count": null,
      "outputs": []
    },
    {
      "cell_type": "code",
      "source": [
        "results = []\n",
        "for i, (im, c) in enumerate(dataset):\n",
        "    if i >= 10:\n",
        "        break\n",
        "    results.append([[i], [renormalize.as_image(im)]])\n",
        "show(results)"
      ],
      "metadata": {
        "id": "6fcfDWNKy5Yf"
      },
      "execution_count": null,
      "outputs": []
    },
    {
      "cell_type": "code",
      "source": [
        "for num_salient in [4, 20, 492]:\n",
        "    unitlist = ttv_single_unit_ablation_ba[:,classnum].sort(0)[1][-num_salient:]\n",
        "    test_pre, test_rec, test_acc, testba2 = intervention_experiment.test_perclass_pra(model, dataset,\n",
        "            layername=layername,\n",
        "            ablated_units=unitlist,\n",
        "            cachefile=sharedfile('ttv-pra-%s-%s/pra_val_ablate_classunits_%s_worstba_%d.npz' %\n",
        "                                 (args.model, args.dataset, classlabels[classnum], len(unitlist))))\n",
        "    print(num_salient, test_rec.mean())\n",
        "print(1/365.0)"
      ],
      "metadata": {
        "id": "zW5TPnkvy5bM"
      },
      "execution_count": null,
      "outputs": []
    },
    {
      "cell_type": "code",
      "source": [
        "print([classlabels[i] for i in test_rec.sort(0)[1].flip(0)[:8]])\n",
        "print(test_rec.sort(0)[0].flip(0)[:8])"
      ],
      "metadata": {
        "id": "x5qryO9AzYzo"
      },
      "execution_count": null,
      "outputs": []
    },
    {
      "cell_type": "code",
      "source": [
        "iou_99.shape\n"
      ],
      "metadata": {
        "id": "2qSJfithzY2H"
      },
      "execution_count": null,
      "outputs": []
    },
    {
      "cell_type": "code",
      "source": [
        "ttv_single_unit_ablation_ba.shape\n"
      ],
      "metadata": {
        "id": "fFQcYTb5zY4v"
      },
      "execution_count": null,
      "outputs": []
    },
    {
      "cell_type": "code",
      "source": [
        "ttv_baseline_ba.shape\n"
      ],
      "metadata": {
        "id": "DtpClq0MzY7d"
      },
      "execution_count": null,
      "outputs": []
    },
    {
      "cell_type": "code",
      "source": [
        "important_units = torch.unique((ttv_single_unit_ablation_ba - ttv_baseline_ba[None,:]).min(0)[1])\n",
        "len(important_units)"
      ],
      "metadata": {
        "id": "ubnPtRNRzY-N"
      },
      "execution_count": null,
      "outputs": []
    },
    {
      "cell_type": "code",
      "source": [
        "iou_99.max(0)[0][important_units].mean()\n"
      ],
      "metadata": {
        "id": "t0rW9r5Ay5dr"
      },
      "execution_count": null,
      "outputs": []
    },
    {
      "cell_type": "code",
      "source": [
        "iou_99.max(0)[0].mean()\n"
      ],
      "metadata": {
        "id": "AR-KoZqg1DGZ"
      },
      "execution_count": null,
      "outputs": []
    },
    {
      "cell_type": "code",
      "source": [
        "important_cutoff = 4\n",
        "unit_importance = torch.bincount((ttv_single_unit_ablation_ba - ttv_baseline_ba[None,:]).sort(0)[1][:important_cutoff].view(-1))\n",
        "most_important_units = (unit_importance >= 7).nonzero()[:,0]\n",
        "print(len(most_important_units))\n",
        "print(most_important_units)"
      ],
      "metadata": {
        "id": "VDOQmnq91DJB"
      },
      "execution_count": null,
      "outputs": []
    },
    {
      "cell_type": "code",
      "source": [
        "imp_vals = torch.unique(unit_importance)\n",
        "fig, ax = plt.subplots(figsize=(5,2.5), dpi=300)\n",
        "tail = 7\n",
        "\n",
        "xlist = [i for i in imp_vals.numpy() if i < tail] + [tail]\n",
        "ylist = (\n",
        "    [iou_99.max(0)[0][unit_importance == i].mean().item()\n",
        "         for i in imp_vals if i < tail] +\n",
        "    [iou_99.max(0)[0][unit_importance >= tail].mean().item()])\n",
        "yerr = (\n",
        "    [iou_99.max(0)[0][unit_importance == i].std().item()\n",
        "          / math.sqrt(len(iou_99.max(0)[0][unit_importance == i]))\n",
        "         for i in imp_vals if i < tail] +\n",
        "    [iou_99.max(0)[0][unit_importance >= tail].std().item()\n",
        "        / math.sqrt(len(iou_99.max(0)[0][unit_importance >= tail]))]\n",
        ")\n",
        "ax.bar(xlist, ylist, yerr=yerr, color=\"#4B4CBF\",\n",
        "    error_kw=dict(lw=1, capsize=5, capthick=1)\n",
        ")\n",
        "for x, y in zip(xlist, ylist):\n",
        "    n = (sum(unit_importance==x) if x < tail\n",
        "         else sum(unit_importance>=tail)).item()\n",
        "    plt.text(x=x, y=1e-3, s='n=%d' % n, size=7.6, ha='center', va='baseline', color='white')\n",
        "ax.set_xlabel('number of classes for which unit is important')\n",
        "ax.set_ylabel('mean IoU$_{u,c}$')\n",
        "ax.set_xticks(xlist)\n",
        "ax.set_xticklabels([x if x < tail else '$\\\\geq %d$' % tail for x in xlist ])"
      ],
      "metadata": {
        "id": "_pvJCh-m1DLo"
      },
      "execution_count": null,
      "outputs": []
    },
    {
      "cell_type": "code",
      "source": [
        "imp_vals = torch.unique(unit_importance)\n",
        "fig, ax = plt.subplots(figsize=(6,1.7), dpi=300)\n",
        "tail = 7\n",
        "\n",
        "xlist = [i for i in imp_vals.numpy() if i < tail] + [tail]\n",
        "ylist = (\n",
        "    [iou_99.max(0)[0][unit_importance == i].mean().item()\n",
        "         for i in imp_vals if i < tail] +\n",
        "    [iou_99.max(0)[0][unit_importance >= tail].mean().item()])\n",
        "yerr = (\n",
        "    [iou_99.max(0)[0][unit_importance == i].std().item()\n",
        "          / math.sqrt(len(iou_99.max(0)[0][unit_importance == i]))\n",
        "         for i in imp_vals if i < tail] +\n",
        "    [iou_99.max(0)[0][unit_importance >= tail].std().item()\n",
        "        / math.sqrt(len(iou_99.max(0)[0][unit_importance >= tail]))]\n",
        ")\n",
        "ax.barh(xlist,ylist, xerr=yerr, color=\"#4B4CBF\",\n",
        "    error_kw=dict(lw=1, capsize=2, capthick=1)\n",
        ")\n",
        "if True:\n",
        "    for x, y in zip(xlist, ylist):\n",
        "        n = (sum(unit_importance==x) if x < tail\n",
        "             else sum(unit_importance>=tail)).item()\n",
        "        plt.text(y=x, x=1e-3, s='n=%d' % n, size=7.6, ha='left', va='center', color='white')\n",
        "ax.set_ylabel('classes for which\\nunit is top-%d imp' % important_cutoff)\n",
        "ax.set_ylabel('classes for which\\nunit is important')\n",
        "ax.set_xlabel('mean IoU$_{u,c}$ of units')\n",
        "ax.set_yticks(xlist)\n",
        "ax.set_yticklabels([x if x < tail else '$\\geq %d$' % tail for x in xlist ])\n",
        "plt.savefig(\"ice-vs-iou.pdf\", bbox_inches='tight')"
      ],
      "metadata": {
        "id": "6Yh7H-vg1DOc"
      },
      "execution_count": null,
      "outputs": []
    },
    {
      "cell_type": "code",
      "source": [
        "((ttv_single_unit_ablation_ba - ttv_baseline_ba[None,:]).sort(0)[1] == 150).nonzero()\n"
      ],
      "metadata": {
        "id": "iZNHqpR11DRG"
      },
      "execution_count": null,
      "outputs": []
    },
    {
      "cell_type": "code",
      "source": [
        "ydata = [\n",
        "    unit_label_99[u][-1]\n",
        "    for u in (ttv_single_unit_ablation_ba - ttv_baseline_ba[None,:]).mean(1).sort(0)[1]\n",
        "]\n",
        "xdata = (ttv_single_unit_ablation_ba - ttv_baseline_ba[None,:]).mean(1).sort(0)[0].numpy()\n",
        "\n",
        "bsize = 32\n",
        "ybatch = [numpy.mean(ydata[i:i+bsize]) for i in range(0, 512, bsize)]\n",
        "yerr = [numpy.std(ydata[i:i+bsize] / numpy.sqrt(bsize)) for i in range(0, 512, bsize)]\n",
        "xbatch = [-numpy.mean(xdata[i:i+bsize]) for i in range(0, 512, bsize)]\n",
        "xerr = [numpy.std(xdata[i:i+bsize] / numpy.sqrt(bsize)) for i in range(0, 512, bsize)]\n",
        "fig, ax = plt.subplots(figsize=(5.8, 5.5), dpi=300)\n",
        "ax.plot(xbatch, ybatch, marker='o', color=\"#4B4CBF\", lw=2)\n",
        "ax.errorbar(xbatch, ybatch, yerr=yerr, xerr=xerr, capsize=2, capthick=1, color='black')\n",
        "ax.set_ylabel('mean iou')\n",
        "ax.set_xlabel('mean class importance\\n(class importance of unit averaged over all classes)')\n",
        "legend = ax.legend(['32 units grouped by mean class importance', 'error bars show standard error'], loc='upper left')\n",
        "legend.get_frame().set_facecolor('none')\n",
        "legend.get_frame().set_edgecolor('none')"
      ],
      "metadata": {
        "id": "rtV0D7e_2yZn"
      },
      "execution_count": null,
      "outputs": []
    },
    {
      "cell_type": "code",
      "source": [
        "xdata"
      ],
      "metadata": {
        "id": "HD88WHih2ycI"
      },
      "execution_count": null,
      "outputs": []
    },
    {
      "cell_type": "code",
      "source": [
        "from collections import defaultdict\n",
        "unit_importance = defaultdict(list)\n",
        "for cls, units in enumerate(\n",
        "    (ttv_single_unit_ablation_ba - ttv_baseline_ba[None,:]).sort(0)[1][:important_cutoff].permute((1, 0))):\n",
        "    for u in units:\n",
        "        unit_importance[u.item()].append(classlabels[cls])\n",
        "unit_importance_records = []\n",
        "for u in range(512):\n",
        "    unit_importance_records.append(dict(unit=u, important_to=unit_importance[u]))\n",
        "with open(resfile('importance.json'), 'w') as f:\n",
        "    json.dump(dict(importance=unit_importance_records), f)"
      ],
      "metadata": {
        "id": "0cLIP-yn2yev"
      },
      "execution_count": null,
      "outputs": []
    },
    {
      "cell_type": "code",
      "source": [
        "import networkx as nx\n",
        "G = nx.Graph()\n",
        "added = set()\n",
        "for u in range(512):\n",
        "    if len(unit_importance_records[u]['important_to']) > 1:\n",
        "        G.add_node('%d' % u)\n",
        "        for c in unit_importance_records[u]['important_to']:\n",
        "            if c not in added:\n",
        "                G.add_node(c)\n",
        "            G.add_edge('%d' % u, c)\n",
        "fig, ax = plt.subplots(1, 1, figsize=(50, 50));\n",
        "nx.draw_networkx(G, ax=ax)\n",
        "plt.show()"
      ],
      "metadata": {
        "id": "OU5k9SfR2yhX"
      },
      "execution_count": null,
      "outputs": []
    },
    {
      "cell_type": "code",
      "source": [
        "# print(nx.minimum_cycle_basis(G))\n",
        "print(nx.find_cycle(G, \"soccer_field\"))"
      ],
      "metadata": {
        "id": "BBpOy6Au2ykK"
      },
      "execution_count": null,
      "outputs": []
    },
    {
      "cell_type": "code",
      "source": [
        "# Find cycles of length 3\n",
        "adjacent_cls = defaultdict(set)\n",
        "for r in unit_importance_records:\n",
        "    for c in r['important_to']:\n",
        "        adjacent_cls[c].update(r['important_to'])\n",
        "set_of_sets = [set(r['important_to']) for r in unit_importance_records]\n",
        "for u in iou_99.max(0)[0].sort(0)[1].flip(0):\n",
        "    r = unit_importance_records[u]\n",
        "    print()\n",
        "    print('unit %d:' % r['unit'])\n",
        "    here = r['important_to']\n",
        "    for i, c in enumerate(here):\n",
        "        for j in range(i + 1, len(here)):\n",
        "            d = here[j]\n",
        "            candidates = adjacent_cls[c].intersection(adjacent_cls[d]).difference(here)\n",
        "            for e in list(candidates):\n",
        "                triple = [c, d, e]\n",
        "                if any(s.issuperset(triple) for s in set_of_sets):\n",
        "                    candidates.remove(e)\n",
        "            if len(candidates):\n",
        "                print(c, d, candidates)"
      ],
      "metadata": {
        "colab": {
          "base_uri": "https://localhost:8080/",
          "height": 245
        },
        "id": "nU78WKYm2ymf",
        "outputId": "d7e7378b-ff13-48fc-8418-8222c5432120"
      },
      "execution_count": null,
      "outputs": [
        {
          "output_type": "error",
          "ename": "NameError",
          "evalue": "ignored",
          "traceback": [
            "\u001b[0;31m---------------------------------------------------------------------------\u001b[0m",
            "\u001b[0;31mNameError\u001b[0m                                 Traceback (most recent call last)",
            "\u001b[0;32m<ipython-input-1-87f6aeeaf57a>\u001b[0m in \u001b[0;36m<module>\u001b[0;34m\u001b[0m\n\u001b[1;32m      1\u001b[0m \u001b[0;31m# Find cycles of length 3\u001b[0m\u001b[0;34m\u001b[0m\u001b[0;34m\u001b[0m\u001b[0;34m\u001b[0m\u001b[0m\n\u001b[0;32m----> 2\u001b[0;31m \u001b[0madjacent_cls\u001b[0m \u001b[0;34m=\u001b[0m \u001b[0mdefaultdict\u001b[0m\u001b[0;34m(\u001b[0m\u001b[0mset\u001b[0m\u001b[0;34m)\u001b[0m\u001b[0;34m\u001b[0m\u001b[0;34m\u001b[0m\u001b[0m\n\u001b[0m\u001b[1;32m      3\u001b[0m \u001b[0;32mfor\u001b[0m \u001b[0mr\u001b[0m \u001b[0;32min\u001b[0m \u001b[0munit_importance_records\u001b[0m\u001b[0;34m:\u001b[0m\u001b[0;34m\u001b[0m\u001b[0;34m\u001b[0m\u001b[0m\n\u001b[1;32m      4\u001b[0m     \u001b[0;32mfor\u001b[0m \u001b[0mc\u001b[0m \u001b[0;32min\u001b[0m \u001b[0mr\u001b[0m\u001b[0;34m[\u001b[0m\u001b[0;34m'important_to'\u001b[0m\u001b[0;34m]\u001b[0m\u001b[0;34m:\u001b[0m\u001b[0;34m\u001b[0m\u001b[0;34m\u001b[0m\u001b[0m\n\u001b[1;32m      5\u001b[0m         \u001b[0madjacent_cls\u001b[0m\u001b[0;34m[\u001b[0m\u001b[0mc\u001b[0m\u001b[0;34m]\u001b[0m\u001b[0;34m.\u001b[0m\u001b[0mupdate\u001b[0m\u001b[0;34m(\u001b[0m\u001b[0mr\u001b[0m\u001b[0;34m[\u001b[0m\u001b[0;34m'important_to'\u001b[0m\u001b[0;34m]\u001b[0m\u001b[0;34m)\u001b[0m\u001b[0;34m\u001b[0m\u001b[0;34m\u001b[0m\u001b[0m\n",
            "\u001b[0;31mNameError\u001b[0m: name 'defaultdict' is not defined"
          ]
        }
      ]
    },
    {
      "cell_type": "code",
      "source": [
        "# Measure covariance between (max) units and classes\n",
        "\n",
        "def compute_maxact_and_pred(batch, *args):\n",
        "    image_batch = batch.cuda()\n",
        "    preds = torch.nn.functional.softmax(model(image_batch), dim=1)\n",
        "    acts = model.retained_layer(layername)\n",
        "    maxacts = acts.view(acts.shape[0], acts.shape[1], -1).max(2)[0]\n",
        "    return maxacts, preds\n",
        "actpredcov = tally.tally_cross_covariance(compute_maxact_and_pred,\n",
        "        dataset, sample_size=sample_size,\n",
        "        num_workers=3, pin_memory=True,\n",
        "        cachefile=resfile('actpredcov.npz'))"
      ],
      "metadata": {
        "id": "4wWMCckb26MB"
      },
      "execution_count": null,
      "outputs": []
    },
    {
      "cell_type": "code",
      "source": [
        "actpredcov.correlation()\n"
      ],
      "metadata": {
        "id": "E7ye2RiF26Os"
      },
      "execution_count": null,
      "outputs": []
    },
    {
      "cell_type": "code",
      "source": [
        "apc = actpredcov.correlation()\n",
        "apc.shape"
      ],
      "metadata": {
        "id": "_uxlL2zG26RX"
      },
      "execution_count": null,
      "outputs": []
    },
    {
      "cell_type": "code",
      "source": [
        "# important unit per class\n",
        "iupc = (ttv_single_unit_ablation_ba - ttv_baseline_ba[None,:]).sort(0)[1][:important_cutoff].permute((1, 0))\n",
        "niupc = (ttv_single_unit_ablation_ba - ttv_baseline_ba[None,:]).sort(0)[1][important_cutoff:].permute((1, 0))\n",
        "negclass = apc[iupc, torch.arange(365)[:,None]].min(1)[0].min(0)[1]\n",
        "apc[:,negclass][iupc[negclass]], iupc[negclass]"
      ],
      "metadata": {
        "id": "uWLc35ub26Wh"
      },
      "execution_count": null,
      "outputs": []
    },
    {
      "cell_type": "code",
      "source": [
        "apc[iupc, torch.arange(365)[:,None]].contiguous().view(-1).sort(0)\n"
      ],
      "metadata": {
        "id": "o-MVoz3e2-FB"
      },
      "execution_count": null,
      "outputs": []
    },
    {
      "cell_type": "code",
      "source": [
        "imp = -(ttv_single_unit_ablation_ba - ttv_baseline_ba[None,:])\n",
        "fig, ax = plt.subplots(figsize=(6, 6), dpi=300)\n",
        "#ax.scatter(imp.view(-1), apc.view(-1))\n",
        "ax.scatter(\n",
        "    imp[niupc, torch.arange(365)[:,None]].contiguous().view(-1),\n",
        "    apc[niupc, torch.arange(365)[:,None]].contiguous().view(-1),\n",
        "    s=0.1, alpha=0.2, color=\"#F0883B\")\n",
        "ax.scatter(\n",
        "    imp[iupc, torch.arange(365)[:,None]].contiguous().view(-1),\n",
        "    apc[iupc, torch.arange(365)[:,None]].contiguous().view(-1),\n",
        "    s=1, alpha=0.5, color=\"#4B4CBF\")\n",
        "ax.set_ylabel('correlation between unit and class')\n",
        "ax.set_xlabel('importance of unit to class accuracy')\n",
        "ax.add_patch(\n",
        "     mpl.patches.Rectangle(\n",
        "        (-0.025, 0),\n",
        "        0.05,\n",
        "        -0.15,\n",
        "        linewidth=1,edgecolor='r',facecolor='none'\n",
        "     ) )\n",
        "ax.text(0.07, 0.1, '%.1f%% of important-unit-class\\ncorrelations are positive'\n",
        "        % (100*(apc[iupc, torch.arange(365)[:,None]] > 0).sum().double() / iupc.numel()))\n",
        "ax.text(0.03, -0.1, '%.1f%% of all unit-class\\ncorrelations are negative'\n",
        "        % (100*((apc < 0).sum().float() / apc.numel())))\n",
        "plt.show()"
      ],
      "metadata": {
        "id": "SXCeEFje2-Hz"
      },
      "execution_count": null,
      "outputs": []
    },
    {
      "cell_type": "code",
      "source": [
        "(apc < 0).sum().float() / apc.numel()"
      ],
      "metadata": {
        "id": "teTl-YOe2-Kr"
      },
      "execution_count": null,
      "outputs": []
    }
  ]
}